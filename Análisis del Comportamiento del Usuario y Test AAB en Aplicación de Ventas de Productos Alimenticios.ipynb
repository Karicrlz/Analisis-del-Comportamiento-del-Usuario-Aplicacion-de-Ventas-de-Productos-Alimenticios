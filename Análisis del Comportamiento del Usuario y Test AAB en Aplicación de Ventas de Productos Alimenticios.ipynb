{
 "cells": [
  {
   "cell_type": "markdown",
   "metadata": {},
   "source": [
    "# Análisis del Comportamiento del Usuario y Test AAB en Aplicación de Ventas de Productos Alimenticios "
   ]
  },
  {
   "cell_type": "markdown",
   "metadata": {},
   "source": [
    "## Introducción \n",
    "\n",
    "En una empresa emergente dedicada a la venta de productos alimenticios,  mi responsabilidad es investigar el comportamiento del usuario para la aplicación. Para comenzar, se estudio el embudo de ventas y entendio cómo nuestros usuarios llegan a la etapa de compra. Me intereso saber cuántos realmente alcanzan esta fase, cuántos se quedan atascados en etapas anteriores y cuáles son esas etapas problemáticas.\n",
    "\n",
    "Además, analice los resultados de un test A/A/B. El equipo de diseño propuso cambiar las fuentes de toda la aplicación, pero la gerencia estaba preocupada de que los usuarios perciban el nuevo diseño como intimidante. Por eso, decidimos basar nuestra decisión en los resultados de este test.\n",
    "\n",
    "En el test, hemos dividido a los usuarios en tres grupos: dos grupos de control que mantienen las fuentes antiguas y un grupo de prueba que utiliza las nuevas. Mi objetivo es determinar qué conjunto de fuentes genera mejores resultados.\n",
    "\n",
    "\n",
    "\n",
    "\n",
    "\n"
   ]
  },
  {
   "cell_type": "markdown",
   "metadata": {},
   "source": [
    "## Descripción de los datos \n",
    "\n",
    "Cada entrada de registro es una acción de usuario o un evento.\n",
    "\n",
    "event_name: nombre del evento.\n",
    "\n",
    "uid: identificador de usuario unívoco.\n",
    "\n",
    "event_ts: hora del evento.\n",
    "\n",
    "expid: número de experimento: 246 y 247 son los grupos de control, 248 es el grupo de prueba."
   ]
  },
  {
   "cell_type": "markdown",
   "metadata": {},
   "source": [
    "# Descripción y procesamiento de datos "
   ]
  },
  {
   "cell_type": "code",
   "execution_count": 97,
   "metadata": {},
   "outputs": [],
   "source": [
    "import pandas as pd \n",
    "import seaborn as sns\n",
    "import numpy as np\n",
    "import matplotlib.pyplot as plt\n",
    "from datetime import datetime\n",
    "from scipy import stats"
   ]
  },
  {
   "cell_type": "code",
   "execution_count": 5,
   "metadata": {},
   "outputs": [],
   "source": [
    "log_exp_df  = pd.read_csv('/datasets/logs_exp_us.csv', sep = '\\t' )"
   ]
  },
  {
   "cell_type": "code",
   "execution_count": 6,
   "metadata": {},
   "outputs": [
    {
     "data": {
      "text/html": [
       "<div>\n",
       "<style scoped>\n",
       "    .dataframe tbody tr th:only-of-type {\n",
       "        vertical-align: middle;\n",
       "    }\n",
       "\n",
       "    .dataframe tbody tr th {\n",
       "        vertical-align: top;\n",
       "    }\n",
       "\n",
       "    .dataframe thead th {\n",
       "        text-align: right;\n",
       "    }\n",
       "</style>\n",
       "<table border=\"1\" class=\"dataframe\">\n",
       "  <thead>\n",
       "    <tr style=\"text-align: right;\">\n",
       "      <th></th>\n",
       "      <th>EventName</th>\n",
       "      <th>DeviceIDHash</th>\n",
       "      <th>EventTimestamp</th>\n",
       "      <th>ExpId</th>\n",
       "    </tr>\n",
       "  </thead>\n",
       "  <tbody>\n",
       "    <tr>\n",
       "      <th>0</th>\n",
       "      <td>MainScreenAppear</td>\n",
       "      <td>4575588528974610257</td>\n",
       "      <td>1564029816</td>\n",
       "      <td>246</td>\n",
       "    </tr>\n",
       "    <tr>\n",
       "      <th>1</th>\n",
       "      <td>MainScreenAppear</td>\n",
       "      <td>7416695313311560658</td>\n",
       "      <td>1564053102</td>\n",
       "      <td>246</td>\n",
       "    </tr>\n",
       "    <tr>\n",
       "      <th>2</th>\n",
       "      <td>PaymentScreenSuccessful</td>\n",
       "      <td>3518123091307005509</td>\n",
       "      <td>1564054127</td>\n",
       "      <td>248</td>\n",
       "    </tr>\n",
       "    <tr>\n",
       "      <th>3</th>\n",
       "      <td>CartScreenAppear</td>\n",
       "      <td>3518123091307005509</td>\n",
       "      <td>1564054127</td>\n",
       "      <td>248</td>\n",
       "    </tr>\n",
       "    <tr>\n",
       "      <th>4</th>\n",
       "      <td>PaymentScreenSuccessful</td>\n",
       "      <td>6217807653094995999</td>\n",
       "      <td>1564055322</td>\n",
       "      <td>248</td>\n",
       "    </tr>\n",
       "    <tr>\n",
       "      <th>...</th>\n",
       "      <td>...</td>\n",
       "      <td>...</td>\n",
       "      <td>...</td>\n",
       "      <td>...</td>\n",
       "    </tr>\n",
       "    <tr>\n",
       "      <th>244121</th>\n",
       "      <td>MainScreenAppear</td>\n",
       "      <td>4599628364049201812</td>\n",
       "      <td>1565212345</td>\n",
       "      <td>247</td>\n",
       "    </tr>\n",
       "    <tr>\n",
       "      <th>244122</th>\n",
       "      <td>MainScreenAppear</td>\n",
       "      <td>5849806612437486590</td>\n",
       "      <td>1565212439</td>\n",
       "      <td>246</td>\n",
       "    </tr>\n",
       "    <tr>\n",
       "      <th>244123</th>\n",
       "      <td>MainScreenAppear</td>\n",
       "      <td>5746969938801999050</td>\n",
       "      <td>1565212483</td>\n",
       "      <td>246</td>\n",
       "    </tr>\n",
       "    <tr>\n",
       "      <th>244124</th>\n",
       "      <td>MainScreenAppear</td>\n",
       "      <td>5746969938801999050</td>\n",
       "      <td>1565212498</td>\n",
       "      <td>246</td>\n",
       "    </tr>\n",
       "    <tr>\n",
       "      <th>244125</th>\n",
       "      <td>OffersScreenAppear</td>\n",
       "      <td>5746969938801999050</td>\n",
       "      <td>1565212517</td>\n",
       "      <td>246</td>\n",
       "    </tr>\n",
       "  </tbody>\n",
       "</table>\n",
       "<p>244126 rows × 4 columns</p>\n",
       "</div>"
      ],
      "text/plain": [
       "                      EventName         DeviceIDHash  EventTimestamp  ExpId\n",
       "0              MainScreenAppear  4575588528974610257      1564029816    246\n",
       "1              MainScreenAppear  7416695313311560658      1564053102    246\n",
       "2       PaymentScreenSuccessful  3518123091307005509      1564054127    248\n",
       "3              CartScreenAppear  3518123091307005509      1564054127    248\n",
       "4       PaymentScreenSuccessful  6217807653094995999      1564055322    248\n",
       "...                         ...                  ...             ...    ...\n",
       "244121         MainScreenAppear  4599628364049201812      1565212345    247\n",
       "244122         MainScreenAppear  5849806612437486590      1565212439    246\n",
       "244123         MainScreenAppear  5746969938801999050      1565212483    246\n",
       "244124         MainScreenAppear  5746969938801999050      1565212498    246\n",
       "244125       OffersScreenAppear  5746969938801999050      1565212517    246\n",
       "\n",
       "[244126 rows x 4 columns]"
      ]
     },
     "execution_count": 6,
     "metadata": {},
     "output_type": "execute_result"
    }
   ],
   "source": [
    "log_exp_df"
   ]
  },
  {
   "cell_type": "markdown",
   "metadata": {},
   "source": [
    "Se realizó el acomodo del formato de la tabla, ahora se realizaran cambios en el nombre de las columnas y se agregara una columna de fecha. \n",
    "\n",
    "Además se comprobara si hay datos ausentes. "
   ]
  },
  {
   "cell_type": "code",
   "execution_count": 7,
   "metadata": {},
   "outputs": [],
   "source": [
    "log_exp_df = log_exp_df.rename(columns = {'EventName':'event_name', 'DeviceIDHash': 'uid', 'EventTimestamp': 'event_ts', 'ExpId': 'expid'})"
   ]
  },
  {
   "cell_type": "code",
   "execution_count": 8,
   "metadata": {},
   "outputs": [
    {
     "data": {
      "text/html": [
       "<div>\n",
       "<style scoped>\n",
       "    .dataframe tbody tr th:only-of-type {\n",
       "        vertical-align: middle;\n",
       "    }\n",
       "\n",
       "    .dataframe tbody tr th {\n",
       "        vertical-align: top;\n",
       "    }\n",
       "\n",
       "    .dataframe thead th {\n",
       "        text-align: right;\n",
       "    }\n",
       "</style>\n",
       "<table border=\"1\" class=\"dataframe\">\n",
       "  <thead>\n",
       "    <tr style=\"text-align: right;\">\n",
       "      <th></th>\n",
       "      <th>event_name</th>\n",
       "      <th>uid</th>\n",
       "      <th>event_ts</th>\n",
       "      <th>expid</th>\n",
       "    </tr>\n",
       "  </thead>\n",
       "  <tbody>\n",
       "    <tr>\n",
       "      <th>0</th>\n",
       "      <td>MainScreenAppear</td>\n",
       "      <td>4575588528974610257</td>\n",
       "      <td>1564029816</td>\n",
       "      <td>246</td>\n",
       "    </tr>\n",
       "    <tr>\n",
       "      <th>1</th>\n",
       "      <td>MainScreenAppear</td>\n",
       "      <td>7416695313311560658</td>\n",
       "      <td>1564053102</td>\n",
       "      <td>246</td>\n",
       "    </tr>\n",
       "    <tr>\n",
       "      <th>2</th>\n",
       "      <td>PaymentScreenSuccessful</td>\n",
       "      <td>3518123091307005509</td>\n",
       "      <td>1564054127</td>\n",
       "      <td>248</td>\n",
       "    </tr>\n",
       "    <tr>\n",
       "      <th>3</th>\n",
       "      <td>CartScreenAppear</td>\n",
       "      <td>3518123091307005509</td>\n",
       "      <td>1564054127</td>\n",
       "      <td>248</td>\n",
       "    </tr>\n",
       "    <tr>\n",
       "      <th>4</th>\n",
       "      <td>PaymentScreenSuccessful</td>\n",
       "      <td>6217807653094995999</td>\n",
       "      <td>1564055322</td>\n",
       "      <td>248</td>\n",
       "    </tr>\n",
       "    <tr>\n",
       "      <th>...</th>\n",
       "      <td>...</td>\n",
       "      <td>...</td>\n",
       "      <td>...</td>\n",
       "      <td>...</td>\n",
       "    </tr>\n",
       "    <tr>\n",
       "      <th>244121</th>\n",
       "      <td>MainScreenAppear</td>\n",
       "      <td>4599628364049201812</td>\n",
       "      <td>1565212345</td>\n",
       "      <td>247</td>\n",
       "    </tr>\n",
       "    <tr>\n",
       "      <th>244122</th>\n",
       "      <td>MainScreenAppear</td>\n",
       "      <td>5849806612437486590</td>\n",
       "      <td>1565212439</td>\n",
       "      <td>246</td>\n",
       "    </tr>\n",
       "    <tr>\n",
       "      <th>244123</th>\n",
       "      <td>MainScreenAppear</td>\n",
       "      <td>5746969938801999050</td>\n",
       "      <td>1565212483</td>\n",
       "      <td>246</td>\n",
       "    </tr>\n",
       "    <tr>\n",
       "      <th>244124</th>\n",
       "      <td>MainScreenAppear</td>\n",
       "      <td>5746969938801999050</td>\n",
       "      <td>1565212498</td>\n",
       "      <td>246</td>\n",
       "    </tr>\n",
       "    <tr>\n",
       "      <th>244125</th>\n",
       "      <td>OffersScreenAppear</td>\n",
       "      <td>5746969938801999050</td>\n",
       "      <td>1565212517</td>\n",
       "      <td>246</td>\n",
       "    </tr>\n",
       "  </tbody>\n",
       "</table>\n",
       "<p>244126 rows × 4 columns</p>\n",
       "</div>"
      ],
      "text/plain": [
       "                     event_name                  uid    event_ts  expid\n",
       "0              MainScreenAppear  4575588528974610257  1564029816    246\n",
       "1              MainScreenAppear  7416695313311560658  1564053102    246\n",
       "2       PaymentScreenSuccessful  3518123091307005509  1564054127    248\n",
       "3              CartScreenAppear  3518123091307005509  1564054127    248\n",
       "4       PaymentScreenSuccessful  6217807653094995999  1564055322    248\n",
       "...                         ...                  ...         ...    ...\n",
       "244121         MainScreenAppear  4599628364049201812  1565212345    247\n",
       "244122         MainScreenAppear  5849806612437486590  1565212439    246\n",
       "244123         MainScreenAppear  5746969938801999050  1565212483    246\n",
       "244124         MainScreenAppear  5746969938801999050  1565212498    246\n",
       "244125       OffersScreenAppear  5746969938801999050  1565212517    246\n",
       "\n",
       "[244126 rows x 4 columns]"
      ]
     },
     "execution_count": 8,
     "metadata": {},
     "output_type": "execute_result"
    }
   ],
   "source": [
    "log_exp_df"
   ]
  },
  {
   "cell_type": "code",
   "execution_count": 9,
   "metadata": {},
   "outputs": [
    {
     "name": "stdout",
     "output_type": "stream",
     "text": [
      "<class 'pandas.core.frame.DataFrame'>\n",
      "RangeIndex: 244126 entries, 0 to 244125\n",
      "Data columns (total 4 columns):\n",
      " #   Column      Non-Null Count   Dtype \n",
      "---  ------      --------------   ----- \n",
      " 0   event_name  244126 non-null  object\n",
      " 1   uid         244126 non-null  int64 \n",
      " 2   event_ts    244126 non-null  int64 \n",
      " 3   expid       244126 non-null  int64 \n",
      "dtypes: int64(3), object(1)\n",
      "memory usage: 7.5+ MB\n"
     ]
    }
   ],
   "source": [
    "log_exp_df.info() "
   ]
  },
  {
   "cell_type": "code",
   "execution_count": 10,
   "metadata": {},
   "outputs": [],
   "source": [
    "log_exp_df['event_ts'] = pd.to_datetime(log_exp_df['event_ts'], unit='s')"
   ]
  },
  {
   "cell_type": "code",
   "execution_count": 11,
   "metadata": {},
   "outputs": [
    {
     "name": "stdout",
     "output_type": "stream",
     "text": [
      "<class 'pandas.core.frame.DataFrame'>\n",
      "RangeIndex: 244126 entries, 0 to 244125\n",
      "Data columns (total 4 columns):\n",
      " #   Column      Non-Null Count   Dtype         \n",
      "---  ------      --------------   -----         \n",
      " 0   event_name  244126 non-null  object        \n",
      " 1   uid         244126 non-null  int64         \n",
      " 2   event_ts    244126 non-null  datetime64[ns]\n",
      " 3   expid       244126 non-null  int64         \n",
      "dtypes: datetime64[ns](1), int64(2), object(1)\n",
      "memory usage: 7.5+ MB\n"
     ]
    }
   ],
   "source": [
    "log_exp_df.info()"
   ]
  },
  {
   "cell_type": "code",
   "execution_count": 12,
   "metadata": {},
   "outputs": [],
   "source": [
    "log_exp_df['date'] = log_exp_df ['event_ts'].dt.date \n",
    "log_exp_df['time'] = log_exp_df ['event_ts'].dt.time "
   ]
  },
  {
   "cell_type": "code",
   "execution_count": 13,
   "metadata": {},
   "outputs": [
    {
     "name": "stdout",
     "output_type": "stream",
     "text": [
      "<class 'pandas.core.frame.DataFrame'>\n",
      "RangeIndex: 244126 entries, 0 to 244125\n",
      "Data columns (total 6 columns):\n",
      " #   Column      Non-Null Count   Dtype         \n",
      "---  ------      --------------   -----         \n",
      " 0   event_name  244126 non-null  object        \n",
      " 1   uid         244126 non-null  int64         \n",
      " 2   event_ts    244126 non-null  datetime64[ns]\n",
      " 3   expid       244126 non-null  int64         \n",
      " 4   date        244126 non-null  object        \n",
      " 5   time        244126 non-null  object        \n",
      "dtypes: datetime64[ns](1), int64(2), object(3)\n",
      "memory usage: 11.2+ MB\n"
     ]
    }
   ],
   "source": [
    "log_exp_df.info()"
   ]
  },
  {
   "cell_type": "code",
   "execution_count": 14,
   "metadata": {},
   "outputs": [
    {
     "data": {
      "text/plain": [
       "array(['MainScreenAppear', 'PaymentScreenSuccessful', 'CartScreenAppear',\n",
       "       'OffersScreenAppear', 'Tutorial'], dtype=object)"
      ]
     },
     "execution_count": 14,
     "metadata": {},
     "output_type": "execute_result"
    }
   ],
   "source": [
    "log_exp_df['event_name'].unique()"
   ]
  },
  {
   "cell_type": "markdown",
   "metadata": {},
   "source": [
    "## Estudiar y comprobar los datos \n",
    "\n",
    "¿Cuántos eventos hay en los registros?\n",
    "\n",
    "¿Cuántos usuarios y usuarias hay en los registros?\n",
    "\n",
    "¿Cuál es el promedio de eventos por usuario?\n",
    "\n",
    "¿Qué periodo de tiempo cubren los datos? Encuentra la fecha máxima y mínima. Traza un histograma por fecha y hora. ¿Puedes tener seguridad de que tienes datos igualmente completos para todo el periodo? Los eventos más antiguos podrían terminar en los registros de algunos usuarios o usuarias por razones técnicas y esto podría sesgar el panorama general. Encuentra el momento en el que los datos comienzan a estar completos e ignora la sección anterior. ¿Qué periodo representan realmente los datos?\n",
    "\n",
    "¿Perdiste muchos eventos y usuarios al excluir los datos más antiguos?\n",
    "\n",
    "Asegúrate de tener usuarios y usuarias de los tres grupos experimentales."
   ]
  },
  {
   "cell_type": "markdown",
   "metadata": {},
   "source": [
    "### ¿Cuántos eventos hay en los registros?"
   ]
  },
  {
   "cell_type": "code",
   "execution_count": 15,
   "metadata": {},
   "outputs": [
    {
     "data": {
      "text/plain": [
       "array(['MainScreenAppear', 'PaymentScreenSuccessful', 'CartScreenAppear',\n",
       "       'OffersScreenAppear', 'Tutorial'], dtype=object)"
      ]
     },
     "execution_count": 15,
     "metadata": {},
     "output_type": "execute_result"
    }
   ],
   "source": [
    "log_exp_df['event_name'].unique()"
   ]
  },
  {
   "cell_type": "code",
   "execution_count": 16,
   "metadata": {},
   "outputs": [
    {
     "name": "stdout",
     "output_type": "stream",
     "text": [
      "244126\n"
     ]
    }
   ],
   "source": [
    "total_event = log_exp_df.shape[0]\n",
    "print(total_event)"
   ]
  },
  {
   "cell_type": "markdown",
   "metadata": {},
   "source": [
    "En general hay 5 eventos en los registros, los cuales son;\n",
    "1. MainScreenappear = Aparece pantalla principal. \n",
    "2. PaymentScreenSuccesful = Pantalla de pago exitosa\n",
    "3. CartScreenAppear = Aparecera pantalla de carrito\n",
    "4. OfferScreenApear = Aparece pantalla de ofertas\n",
    "5. Tutorial = Tutorial \n",
    "\n",
    "En los registros hay un total de 244126 eventos. "
   ]
  },
  {
   "cell_type": "markdown",
   "metadata": {},
   "source": [
    "### ¿Cuántos usuarios y usuarias hay en los registros?"
   ]
  },
  {
   "cell_type": "code",
   "execution_count": 17,
   "metadata": {},
   "outputs": [
    {
     "name": "stdout",
     "output_type": "stream",
     "text": [
      "Total de usuarios en los registros:\n",
      "7551\n"
     ]
    }
   ],
   "source": [
    "print('Total de usuarios en los registros:')\n",
    "total_users = log_exp_df['uid'].nunique() \n",
    "print(total_users)"
   ]
  },
  {
   "cell_type": "markdown",
   "metadata": {},
   "source": [
    "### ¿Cuál es el promedio de eventos por usuario?"
   ]
  },
  {
   "cell_type": "code",
   "execution_count": 18,
   "metadata": {},
   "outputs": [
    {
     "name": "stdout",
     "output_type": "stream",
     "text": [
      "Promedio de eventos por usario: 32.33028737915508\n"
     ]
    }
   ],
   "source": [
    "events_per_user = total_event/total_users \n",
    "print(f'Promedio de eventos por usario: {events_per_user}')"
   ]
  },
  {
   "cell_type": "markdown",
   "metadata": {},
   "source": [
    "### ¿Qué periodo de tiempo cubren los datos? Encuentra la fecha máxima y mínima. Traza un histograma por fecha y hora. ¿Puedes tener seguridad de que tienes datos igualmente completos para todo el periodo? Los eventos más antiguos podrían terminar en los registros de algunos usuarios o usuarias por razones técnicas y esto podría sesgar el panorama general. Encuentra el momento en el que los datos comienzan a estar completos e ignora la sección anterior. ¿Qué periodo representan realmente los datos?\n"
   ]
  },
  {
   "cell_type": "code",
   "execution_count": 19,
   "metadata": {},
   "outputs": [
    {
     "name": "stdout",
     "output_type": "stream",
     "text": [
      "fecha mínima: 2019-07-25 04:43:36\n",
      "fecha máxima: 2019-08-07 21:15:17\n"
     ]
    }
   ],
   "source": [
    "print('fecha mínima:', log_exp_df['event_ts'].min()) \n",
    "print('fecha máxima:', log_exp_df['event_ts'].max()) "
   ]
  },
  {
   "cell_type": "code",
   "execution_count": 25,
   "metadata": {},
   "outputs": [],
   "source": [
    "events_per_date = log_exp_df['date'].value_counts().sort_index()"
   ]
  },
  {
   "cell_type": "code",
   "execution_count": 26,
   "metadata": {},
   "outputs": [
    {
     "data": {
      "image/png": "[encoded data removed]",
      "text/plain": [
       "<Figure size 1000x600 with 1 Axes>"
      ]
     },
     "metadata": {},
     "output_type": "display_data"
    }
   ],
   "source": [
    "\n",
    "plt.figure(figsize=(10, 6))\n",
    "events_per_date.plot(kind='bar')\n",
    "plt.title('Número de eventos por fecha')\n",
    "plt.xlabel('Fecha')\n",
    "plt.ylabel('Número de eventos')\n",
    "plt.xticks(rotation=45)\n",
    "plt.tight_layout()\n",
    "plt.show()"
   ]
  },
  {
   "cell_type": "code",
   "execution_count": 27,
   "metadata": {},
   "outputs": [
    {
     "data": {
      "text/plain": [
       "count       14.000000\n",
       "mean     17437.571429\n",
       "std      17734.124149\n",
       "min          9.000000\n",
       "25%        124.750000\n",
       "50%      16587.500000\n",
       "75%      35042.250000\n",
       "max      36229.000000\n",
       "Name: date, dtype: float64"
      ]
     },
     "execution_count": 27,
     "metadata": {},
     "output_type": "execute_result"
    }
   ],
   "source": [
    "events_per_date.describe()"
   ]
  },
  {
   "cell_type": "code",
   "execution_count": 31,
   "metadata": {},
   "outputs": [
    {
     "data": {
      "image/png": "[encoded data removed]",
      "text/plain": [
       "<Figure size 1000x600 with 1 Axes>"
      ]
     },
     "metadata": {},
     "output_type": "display_data"
    }
   ],
   "source": [
    "plt.figure(figsize=(10, 6))\n",
    "events_per_date.plot()\n",
    "plt.title('Eventos acumulados por fecha')\n",
    "plt.xlabel('Fecha')\n",
    "plt.ylabel('Número acumulado de eventos')\n",
    "plt.xticks(rotation=45)\n",
    "plt.legend()\n",
    "plt.tight_layout()\n",
    "plt.show()\n"
   ]
  },
  {
   "cell_type": "markdown",
   "metadata": {},
   "source": [
    "Parece que los datos se estabilizan a partir de 31 de julio, tomaremos el periodo de 31-07-2019 al 07-08-2019"
   ]
  },
  {
   "cell_type": "code",
   "execution_count": 34,
   "metadata": {},
   "outputs": [],
   "source": [
    "log_exp_df['date'] = pd.to_datetime(log_exp_df['date'])\n",
    "\n",
    "# Se filtra el DataFrame para incluir solo las fechas después del 31 de julio de 2019\n",
    "log_exp_df = log_exp_df[log_exp_df['date'] > pd.Timestamp('2019-07-31')]"
   ]
  },
  {
   "cell_type": "markdown",
   "metadata": {},
   "source": [
    "### ¿Perdiste muchos eventos y usuarios al excluir los datos más antiguos?"
   ]
  },
  {
   "cell_type": "code",
   "execution_count": 35,
   "metadata": {},
   "outputs": [
    {
     "data": {
      "text/html": [
       "<div>\n",
       "<style scoped>\n",
       "    .dataframe tbody tr th:only-of-type {\n",
       "        vertical-align: middle;\n",
       "    }\n",
       "\n",
       "    .dataframe tbody tr th {\n",
       "        vertical-align: top;\n",
       "    }\n",
       "\n",
       "    .dataframe thead th {\n",
       "        text-align: right;\n",
       "    }\n",
       "</style>\n",
       "<table border=\"1\" class=\"dataframe\">\n",
       "  <thead>\n",
       "    <tr style=\"text-align: right;\">\n",
       "      <th></th>\n",
       "      <th>event_name</th>\n",
       "      <th>uid</th>\n",
       "      <th>event_ts</th>\n",
       "      <th>expid</th>\n",
       "      <th>date</th>\n",
       "      <th>time</th>\n",
       "    </tr>\n",
       "  </thead>\n",
       "  <tbody>\n",
       "    <tr>\n",
       "      <th>2828</th>\n",
       "      <td>Tutorial</td>\n",
       "      <td>3737462046622621720</td>\n",
       "      <td>2019-08-01 00:07:28</td>\n",
       "      <td>246</td>\n",
       "      <td>2019-08-01</td>\n",
       "      <td>00:07:28</td>\n",
       "    </tr>\n",
       "    <tr>\n",
       "      <th>2829</th>\n",
       "      <td>MainScreenAppear</td>\n",
       "      <td>3737462046622621720</td>\n",
       "      <td>2019-08-01 00:08:00</td>\n",
       "      <td>246</td>\n",
       "      <td>2019-08-01</td>\n",
       "      <td>00:08:00</td>\n",
       "    </tr>\n",
       "    <tr>\n",
       "      <th>2830</th>\n",
       "      <td>MainScreenAppear</td>\n",
       "      <td>3737462046622621720</td>\n",
       "      <td>2019-08-01 00:08:55</td>\n",
       "      <td>246</td>\n",
       "      <td>2019-08-01</td>\n",
       "      <td>00:08:55</td>\n",
       "    </tr>\n",
       "    <tr>\n",
       "      <th>2831</th>\n",
       "      <td>OffersScreenAppear</td>\n",
       "      <td>3737462046622621720</td>\n",
       "      <td>2019-08-01 00:08:58</td>\n",
       "      <td>246</td>\n",
       "      <td>2019-08-01</td>\n",
       "      <td>00:08:58</td>\n",
       "    </tr>\n",
       "    <tr>\n",
       "      <th>2832</th>\n",
       "      <td>MainScreenAppear</td>\n",
       "      <td>1433840883824088890</td>\n",
       "      <td>2019-08-01 00:08:59</td>\n",
       "      <td>247</td>\n",
       "      <td>2019-08-01</td>\n",
       "      <td>00:08:59</td>\n",
       "    </tr>\n",
       "    <tr>\n",
       "      <th>...</th>\n",
       "      <td>...</td>\n",
       "      <td>...</td>\n",
       "      <td>...</td>\n",
       "      <td>...</td>\n",
       "      <td>...</td>\n",
       "      <td>...</td>\n",
       "    </tr>\n",
       "    <tr>\n",
       "      <th>244121</th>\n",
       "      <td>MainScreenAppear</td>\n",
       "      <td>4599628364049201812</td>\n",
       "      <td>2019-08-07 21:12:25</td>\n",
       "      <td>247</td>\n",
       "      <td>2019-08-07</td>\n",
       "      <td>21:12:25</td>\n",
       "    </tr>\n",
       "    <tr>\n",
       "      <th>244122</th>\n",
       "      <td>MainScreenAppear</td>\n",
       "      <td>5849806612437486590</td>\n",
       "      <td>2019-08-07 21:13:59</td>\n",
       "      <td>246</td>\n",
       "      <td>2019-08-07</td>\n",
       "      <td>21:13:59</td>\n",
       "    </tr>\n",
       "    <tr>\n",
       "      <th>244123</th>\n",
       "      <td>MainScreenAppear</td>\n",
       "      <td>5746969938801999050</td>\n",
       "      <td>2019-08-07 21:14:43</td>\n",
       "      <td>246</td>\n",
       "      <td>2019-08-07</td>\n",
       "      <td>21:14:43</td>\n",
       "    </tr>\n",
       "    <tr>\n",
       "      <th>244124</th>\n",
       "      <td>MainScreenAppear</td>\n",
       "      <td>5746969938801999050</td>\n",
       "      <td>2019-08-07 21:14:58</td>\n",
       "      <td>246</td>\n",
       "      <td>2019-08-07</td>\n",
       "      <td>21:14:58</td>\n",
       "    </tr>\n",
       "    <tr>\n",
       "      <th>244125</th>\n",
       "      <td>OffersScreenAppear</td>\n",
       "      <td>5746969938801999050</td>\n",
       "      <td>2019-08-07 21:15:17</td>\n",
       "      <td>246</td>\n",
       "      <td>2019-08-07</td>\n",
       "      <td>21:15:17</td>\n",
       "    </tr>\n",
       "  </tbody>\n",
       "</table>\n",
       "<p>241298 rows × 6 columns</p>\n",
       "</div>"
      ],
      "text/plain": [
       "                event_name                  uid            event_ts  expid  \\\n",
       "2828              Tutorial  3737462046622621720 2019-08-01 00:07:28    246   \n",
       "2829      MainScreenAppear  3737462046622621720 2019-08-01 00:08:00    246   \n",
       "2830      MainScreenAppear  3737462046622621720 2019-08-01 00:08:55    246   \n",
       "2831    OffersScreenAppear  3737462046622621720 2019-08-01 00:08:58    246   \n",
       "2832      MainScreenAppear  1433840883824088890 2019-08-01 00:08:59    247   \n",
       "...                    ...                  ...                 ...    ...   \n",
       "244121    MainScreenAppear  4599628364049201812 2019-08-07 21:12:25    247   \n",
       "244122    MainScreenAppear  5849806612437486590 2019-08-07 21:13:59    246   \n",
       "244123    MainScreenAppear  5746969938801999050 2019-08-07 21:14:43    246   \n",
       "244124    MainScreenAppear  5746969938801999050 2019-08-07 21:14:58    246   \n",
       "244125  OffersScreenAppear  5746969938801999050 2019-08-07 21:15:17    246   \n",
       "\n",
       "             date      time  \n",
       "2828   2019-08-01  00:07:28  \n",
       "2829   2019-08-01  00:08:00  \n",
       "2830   2019-08-01  00:08:55  \n",
       "2831   2019-08-01  00:08:58  \n",
       "2832   2019-08-01  00:08:59  \n",
       "...           ...       ...  \n",
       "244121 2019-08-07  21:12:25  \n",
       "244122 2019-08-07  21:13:59  \n",
       "244123 2019-08-07  21:14:43  \n",
       "244124 2019-08-07  21:14:58  \n",
       "244125 2019-08-07  21:15:17  \n",
       "\n",
       "[241298 rows x 6 columns]"
      ]
     },
     "execution_count": 35,
     "metadata": {},
     "output_type": "execute_result"
    }
   ],
   "source": [
    "log_exp_df"
   ]
  },
  {
   "cell_type": "code",
   "execution_count": 85,
   "metadata": {},
   "outputs": [
    {
     "data": {
      "text/plain": [
       "7534"
      ]
     },
     "execution_count": 85,
     "metadata": {},
     "output_type": "execute_result"
    }
   ],
   "source": [
    "total_users = log_exp_df['uid'].nunique()\n",
    "total_users"
   ]
  },
  {
   "cell_type": "markdown",
   "metadata": {},
   "source": [
    "En cuanto a número de eventos se perdieron 2,828, mientras que unicamente se perdieron 17 usuarios."
   ]
  },
  {
   "cell_type": "markdown",
   "metadata": {},
   "source": [
    "### Asegúrate de tener usuarios y usuarias de los tres grupos experimentales."
   ]
  },
  {
   "cell_type": "code",
   "execution_count": 44,
   "metadata": {},
   "outputs": [
    {
     "data": {
      "text/html": [
       "<div>\n",
       "<style scoped>\n",
       "    .dataframe tbody tr th:only-of-type {\n",
       "        vertical-align: middle;\n",
       "    }\n",
       "\n",
       "    .dataframe tbody tr th {\n",
       "        vertical-align: top;\n",
       "    }\n",
       "\n",
       "    .dataframe thead th {\n",
       "        text-align: right;\n",
       "    }\n",
       "</style>\n",
       "<table border=\"1\" class=\"dataframe\">\n",
       "  <thead>\n",
       "    <tr style=\"text-align: right;\">\n",
       "      <th></th>\n",
       "      <th>event_name</th>\n",
       "      <th>uid</th>\n",
       "      <th>event_ts</th>\n",
       "      <th>expid</th>\n",
       "      <th>date</th>\n",
       "      <th>time</th>\n",
       "    </tr>\n",
       "  </thead>\n",
       "  <tbody>\n",
       "    <tr>\n",
       "      <th>2828</th>\n",
       "      <td>Tutorial</td>\n",
       "      <td>3737462046622621720</td>\n",
       "      <td>2019-08-01 00:07:28</td>\n",
       "      <td>246</td>\n",
       "      <td>2019-08-01</td>\n",
       "      <td>00:07:28</td>\n",
       "    </tr>\n",
       "    <tr>\n",
       "      <th>2829</th>\n",
       "      <td>MainScreenAppear</td>\n",
       "      <td>3737462046622621720</td>\n",
       "      <td>2019-08-01 00:08:00</td>\n",
       "      <td>246</td>\n",
       "      <td>2019-08-01</td>\n",
       "      <td>00:08:00</td>\n",
       "    </tr>\n",
       "    <tr>\n",
       "      <th>2830</th>\n",
       "      <td>MainScreenAppear</td>\n",
       "      <td>3737462046622621720</td>\n",
       "      <td>2019-08-01 00:08:55</td>\n",
       "      <td>246</td>\n",
       "      <td>2019-08-01</td>\n",
       "      <td>00:08:55</td>\n",
       "    </tr>\n",
       "    <tr>\n",
       "      <th>2831</th>\n",
       "      <td>OffersScreenAppear</td>\n",
       "      <td>3737462046622621720</td>\n",
       "      <td>2019-08-01 00:08:58</td>\n",
       "      <td>246</td>\n",
       "      <td>2019-08-01</td>\n",
       "      <td>00:08:58</td>\n",
       "    </tr>\n",
       "    <tr>\n",
       "      <th>2834</th>\n",
       "      <td>OffersScreenAppear</td>\n",
       "      <td>3737462046622621720</td>\n",
       "      <td>2019-08-01 00:10:26</td>\n",
       "      <td>246</td>\n",
       "      <td>2019-08-01</td>\n",
       "      <td>00:10:26</td>\n",
       "    </tr>\n",
       "    <tr>\n",
       "      <th>...</th>\n",
       "      <td>...</td>\n",
       "      <td>...</td>\n",
       "      <td>...</td>\n",
       "      <td>...</td>\n",
       "      <td>...</td>\n",
       "      <td>...</td>\n",
       "    </tr>\n",
       "    <tr>\n",
       "      <th>244120</th>\n",
       "      <td>MainScreenAppear</td>\n",
       "      <td>5746969938801999050</td>\n",
       "      <td>2019-08-07 21:12:11</td>\n",
       "      <td>246</td>\n",
       "      <td>2019-08-07</td>\n",
       "      <td>21:12:11</td>\n",
       "    </tr>\n",
       "    <tr>\n",
       "      <th>244122</th>\n",
       "      <td>MainScreenAppear</td>\n",
       "      <td>5849806612437486590</td>\n",
       "      <td>2019-08-07 21:13:59</td>\n",
       "      <td>246</td>\n",
       "      <td>2019-08-07</td>\n",
       "      <td>21:13:59</td>\n",
       "    </tr>\n",
       "    <tr>\n",
       "      <th>244123</th>\n",
       "      <td>MainScreenAppear</td>\n",
       "      <td>5746969938801999050</td>\n",
       "      <td>2019-08-07 21:14:43</td>\n",
       "      <td>246</td>\n",
       "      <td>2019-08-07</td>\n",
       "      <td>21:14:43</td>\n",
       "    </tr>\n",
       "    <tr>\n",
       "      <th>244124</th>\n",
       "      <td>MainScreenAppear</td>\n",
       "      <td>5746969938801999050</td>\n",
       "      <td>2019-08-07 21:14:58</td>\n",
       "      <td>246</td>\n",
       "      <td>2019-08-07</td>\n",
       "      <td>21:14:58</td>\n",
       "    </tr>\n",
       "    <tr>\n",
       "      <th>244125</th>\n",
       "      <td>OffersScreenAppear</td>\n",
       "      <td>5746969938801999050</td>\n",
       "      <td>2019-08-07 21:15:17</td>\n",
       "      <td>246</td>\n",
       "      <td>2019-08-07</td>\n",
       "      <td>21:15:17</td>\n",
       "    </tr>\n",
       "  </tbody>\n",
       "</table>\n",
       "<p>79425 rows × 6 columns</p>\n",
       "</div>"
      ],
      "text/plain": [
       "                event_name                  uid            event_ts  expid  \\\n",
       "2828              Tutorial  3737462046622621720 2019-08-01 00:07:28    246   \n",
       "2829      MainScreenAppear  3737462046622621720 2019-08-01 00:08:00    246   \n",
       "2830      MainScreenAppear  3737462046622621720 2019-08-01 00:08:55    246   \n",
       "2831    OffersScreenAppear  3737462046622621720 2019-08-01 00:08:58    246   \n",
       "2834    OffersScreenAppear  3737462046622621720 2019-08-01 00:10:26    246   \n",
       "...                    ...                  ...                 ...    ...   \n",
       "244120    MainScreenAppear  5746969938801999050 2019-08-07 21:12:11    246   \n",
       "244122    MainScreenAppear  5849806612437486590 2019-08-07 21:13:59    246   \n",
       "244123    MainScreenAppear  5746969938801999050 2019-08-07 21:14:43    246   \n",
       "244124    MainScreenAppear  5746969938801999050 2019-08-07 21:14:58    246   \n",
       "244125  OffersScreenAppear  5746969938801999050 2019-08-07 21:15:17    246   \n",
       "\n",
       "             date      time  \n",
       "2828   2019-08-01  00:07:28  \n",
       "2829   2019-08-01  00:08:00  \n",
       "2830   2019-08-01  00:08:55  \n",
       "2831   2019-08-01  00:08:58  \n",
       "2834   2019-08-01  00:10:26  \n",
       "...           ...       ...  \n",
       "244120 2019-08-07  21:12:11  \n",
       "244122 2019-08-07  21:13:59  \n",
       "244123 2019-08-07  21:14:43  \n",
       "244124 2019-08-07  21:14:58  \n",
       "244125 2019-08-07  21:15:17  \n",
       "\n",
       "[79425 rows x 6 columns]"
      ]
     },
     "execution_count": 44,
     "metadata": {},
     "output_type": "execute_result"
    }
   ],
   "source": [
    "g246 = log_exp_df[log_exp_df['expid']== 246]\n",
    "g246"
   ]
  },
  {
   "cell_type": "code",
   "execution_count": 45,
   "metadata": {},
   "outputs": [
    {
     "data": {
      "text/html": [
       "<div>\n",
       "<style scoped>\n",
       "    .dataframe tbody tr th:only-of-type {\n",
       "        vertical-align: middle;\n",
       "    }\n",
       "\n",
       "    .dataframe tbody tr th {\n",
       "        vertical-align: top;\n",
       "    }\n",
       "\n",
       "    .dataframe thead th {\n",
       "        text-align: right;\n",
       "    }\n",
       "</style>\n",
       "<table border=\"1\" class=\"dataframe\">\n",
       "  <thead>\n",
       "    <tr style=\"text-align: right;\">\n",
       "      <th></th>\n",
       "      <th>event_name</th>\n",
       "      <th>uid</th>\n",
       "      <th>event_ts</th>\n",
       "      <th>expid</th>\n",
       "      <th>date</th>\n",
       "      <th>time</th>\n",
       "    </tr>\n",
       "  </thead>\n",
       "  <tbody>\n",
       "    <tr>\n",
       "      <th>2832</th>\n",
       "      <td>MainScreenAppear</td>\n",
       "      <td>1433840883824088890</td>\n",
       "      <td>2019-08-01 00:08:59</td>\n",
       "      <td>247</td>\n",
       "      <td>2019-08-01</td>\n",
       "      <td>00:08:59</td>\n",
       "    </tr>\n",
       "    <tr>\n",
       "      <th>2833</th>\n",
       "      <td>MainScreenAppear</td>\n",
       "      <td>4899590676214355127</td>\n",
       "      <td>2019-08-01 00:10:15</td>\n",
       "      <td>247</td>\n",
       "      <td>2019-08-01</td>\n",
       "      <td>00:10:15</td>\n",
       "    </tr>\n",
       "    <tr>\n",
       "      <th>2838</th>\n",
       "      <td>MainScreenAppear</td>\n",
       "      <td>4899590676214355127</td>\n",
       "      <td>2019-08-01 00:11:28</td>\n",
       "      <td>247</td>\n",
       "      <td>2019-08-01</td>\n",
       "      <td>00:11:28</td>\n",
       "    </tr>\n",
       "    <tr>\n",
       "      <th>2839</th>\n",
       "      <td>OffersScreenAppear</td>\n",
       "      <td>4899590676214355127</td>\n",
       "      <td>2019-08-01 00:11:30</td>\n",
       "      <td>247</td>\n",
       "      <td>2019-08-01</td>\n",
       "      <td>00:11:30</td>\n",
       "    </tr>\n",
       "    <tr>\n",
       "      <th>2843</th>\n",
       "      <td>OffersScreenAppear</td>\n",
       "      <td>4899590676214355127</td>\n",
       "      <td>2019-08-01 00:12:36</td>\n",
       "      <td>247</td>\n",
       "      <td>2019-08-01</td>\n",
       "      <td>00:12:36</td>\n",
       "    </tr>\n",
       "    <tr>\n",
       "      <th>...</th>\n",
       "      <td>...</td>\n",
       "      <td>...</td>\n",
       "      <td>...</td>\n",
       "      <td>...</td>\n",
       "      <td>...</td>\n",
       "      <td>...</td>\n",
       "    </tr>\n",
       "    <tr>\n",
       "      <th>244088</th>\n",
       "      <td>MainScreenAppear</td>\n",
       "      <td>2300292234025330845</td>\n",
       "      <td>2019-08-07 21:05:37</td>\n",
       "      <td>247</td>\n",
       "      <td>2019-08-07</td>\n",
       "      <td>21:05:37</td>\n",
       "    </tr>\n",
       "    <tr>\n",
       "      <th>244089</th>\n",
       "      <td>OffersScreenAppear</td>\n",
       "      <td>2300292234025330845</td>\n",
       "      <td>2019-08-07 21:05:43</td>\n",
       "      <td>247</td>\n",
       "      <td>2019-08-07</td>\n",
       "      <td>21:05:43</td>\n",
       "    </tr>\n",
       "    <tr>\n",
       "      <th>244090</th>\n",
       "      <td>OffersScreenAppear</td>\n",
       "      <td>2300292234025330845</td>\n",
       "      <td>2019-08-07 21:05:54</td>\n",
       "      <td>247</td>\n",
       "      <td>2019-08-07</td>\n",
       "      <td>21:05:54</td>\n",
       "    </tr>\n",
       "    <tr>\n",
       "      <th>244091</th>\n",
       "      <td>MainScreenAppear</td>\n",
       "      <td>2300292234025330845</td>\n",
       "      <td>2019-08-07 21:05:57</td>\n",
       "      <td>247</td>\n",
       "      <td>2019-08-07</td>\n",
       "      <td>21:05:57</td>\n",
       "    </tr>\n",
       "    <tr>\n",
       "      <th>244121</th>\n",
       "      <td>MainScreenAppear</td>\n",
       "      <td>4599628364049201812</td>\n",
       "      <td>2019-08-07 21:12:25</td>\n",
       "      <td>247</td>\n",
       "      <td>2019-08-07</td>\n",
       "      <td>21:12:25</td>\n",
       "    </tr>\n",
       "  </tbody>\n",
       "</table>\n",
       "<p>77147 rows × 6 columns</p>\n",
       "</div>"
      ],
      "text/plain": [
       "                event_name                  uid            event_ts  expid  \\\n",
       "2832      MainScreenAppear  1433840883824088890 2019-08-01 00:08:59    247   \n",
       "2833      MainScreenAppear  4899590676214355127 2019-08-01 00:10:15    247   \n",
       "2838      MainScreenAppear  4899590676214355127 2019-08-01 00:11:28    247   \n",
       "2839    OffersScreenAppear  4899590676214355127 2019-08-01 00:11:30    247   \n",
       "2843    OffersScreenAppear  4899590676214355127 2019-08-01 00:12:36    247   \n",
       "...                    ...                  ...                 ...    ...   \n",
       "244088    MainScreenAppear  2300292234025330845 2019-08-07 21:05:37    247   \n",
       "244089  OffersScreenAppear  2300292234025330845 2019-08-07 21:05:43    247   \n",
       "244090  OffersScreenAppear  2300292234025330845 2019-08-07 21:05:54    247   \n",
       "244091    MainScreenAppear  2300292234025330845 2019-08-07 21:05:57    247   \n",
       "244121    MainScreenAppear  4599628364049201812 2019-08-07 21:12:25    247   \n",
       "\n",
       "             date      time  \n",
       "2832   2019-08-01  00:08:59  \n",
       "2833   2019-08-01  00:10:15  \n",
       "2838   2019-08-01  00:11:28  \n",
       "2839   2019-08-01  00:11:30  \n",
       "2843   2019-08-01  00:12:36  \n",
       "...           ...       ...  \n",
       "244088 2019-08-07  21:05:37  \n",
       "244089 2019-08-07  21:05:43  \n",
       "244090 2019-08-07  21:05:54  \n",
       "244091 2019-08-07  21:05:57  \n",
       "244121 2019-08-07  21:12:25  \n",
       "\n",
       "[77147 rows x 6 columns]"
      ]
     },
     "execution_count": 45,
     "metadata": {},
     "output_type": "execute_result"
    }
   ],
   "source": [
    "g247 = log_exp_df[log_exp_df['expid']== 247]\n",
    "g247"
   ]
  },
  {
   "cell_type": "code",
   "execution_count": 47,
   "metadata": {},
   "outputs": [
    {
     "data": {
      "text/html": [
       "<div>\n",
       "<style scoped>\n",
       "    .dataframe tbody tr th:only-of-type {\n",
       "        vertical-align: middle;\n",
       "    }\n",
       "\n",
       "    .dataframe tbody tr th {\n",
       "        vertical-align: top;\n",
       "    }\n",
       "\n",
       "    .dataframe thead th {\n",
       "        text-align: right;\n",
       "    }\n",
       "</style>\n",
       "<table border=\"1\" class=\"dataframe\">\n",
       "  <thead>\n",
       "    <tr style=\"text-align: right;\">\n",
       "      <th></th>\n",
       "      <th>event_name</th>\n",
       "      <th>uid</th>\n",
       "      <th>event_ts</th>\n",
       "      <th>expid</th>\n",
       "      <th>date</th>\n",
       "      <th>time</th>\n",
       "    </tr>\n",
       "  </thead>\n",
       "  <tbody>\n",
       "    <tr>\n",
       "      <th>2844</th>\n",
       "      <td>MainScreenAppear</td>\n",
       "      <td>4613461174774205834</td>\n",
       "      <td>2019-08-01 00:14:31</td>\n",
       "      <td>248</td>\n",
       "      <td>2019-08-01</td>\n",
       "      <td>00:14:31</td>\n",
       "    </tr>\n",
       "    <tr>\n",
       "      <th>2845</th>\n",
       "      <td>MainScreenAppear</td>\n",
       "      <td>4613461174774205834</td>\n",
       "      <td>2019-08-01 00:14:34</td>\n",
       "      <td>248</td>\n",
       "      <td>2019-08-01</td>\n",
       "      <td>00:14:34</td>\n",
       "    </tr>\n",
       "    <tr>\n",
       "      <th>2846</th>\n",
       "      <td>CartScreenAppear</td>\n",
       "      <td>4613461174774205834</td>\n",
       "      <td>2019-08-01 00:14:34</td>\n",
       "      <td>248</td>\n",
       "      <td>2019-08-01</td>\n",
       "      <td>00:14:34</td>\n",
       "    </tr>\n",
       "    <tr>\n",
       "      <th>2847</th>\n",
       "      <td>PaymentScreenSuccessful</td>\n",
       "      <td>4613461174774205834</td>\n",
       "      <td>2019-08-01 00:14:43</td>\n",
       "      <td>248</td>\n",
       "      <td>2019-08-01</td>\n",
       "      <td>00:14:43</td>\n",
       "    </tr>\n",
       "    <tr>\n",
       "      <th>2848</th>\n",
       "      <td>OffersScreenAppear</td>\n",
       "      <td>4613461174774205834</td>\n",
       "      <td>2019-08-01 00:14:51</td>\n",
       "      <td>248</td>\n",
       "      <td>2019-08-01</td>\n",
       "      <td>00:14:51</td>\n",
       "    </tr>\n",
       "    <tr>\n",
       "      <th>...</th>\n",
       "      <td>...</td>\n",
       "      <td>...</td>\n",
       "      <td>...</td>\n",
       "      <td>...</td>\n",
       "      <td>...</td>\n",
       "      <td>...</td>\n",
       "    </tr>\n",
       "    <tr>\n",
       "      <th>244082</th>\n",
       "      <td>MainScreenAppear</td>\n",
       "      <td>8249271441488197538</td>\n",
       "      <td>2019-08-07 21:03:33</td>\n",
       "      <td>248</td>\n",
       "      <td>2019-08-07</td>\n",
       "      <td>21:03:33</td>\n",
       "    </tr>\n",
       "    <tr>\n",
       "      <th>244084</th>\n",
       "      <td>OffersScreenAppear</td>\n",
       "      <td>8249271441488197538</td>\n",
       "      <td>2019-08-07 21:03:43</td>\n",
       "      <td>248</td>\n",
       "      <td>2019-08-07</td>\n",
       "      <td>21:03:43</td>\n",
       "    </tr>\n",
       "    <tr>\n",
       "      <th>244109</th>\n",
       "      <td>MainScreenAppear</td>\n",
       "      <td>5317814261427487562</td>\n",
       "      <td>2019-08-07 21:09:22</td>\n",
       "      <td>248</td>\n",
       "      <td>2019-08-07</td>\n",
       "      <td>21:09:22</td>\n",
       "    </tr>\n",
       "    <tr>\n",
       "      <th>244110</th>\n",
       "      <td>OffersScreenAppear</td>\n",
       "      <td>5317814261427487562</td>\n",
       "      <td>2019-08-07 21:09:27</td>\n",
       "      <td>248</td>\n",
       "      <td>2019-08-07</td>\n",
       "      <td>21:09:27</td>\n",
       "    </tr>\n",
       "    <tr>\n",
       "      <th>244115</th>\n",
       "      <td>OffersScreenAppear</td>\n",
       "      <td>5317814261427487562</td>\n",
       "      <td>2019-08-07 21:10:08</td>\n",
       "      <td>248</td>\n",
       "      <td>2019-08-07</td>\n",
       "      <td>21:10:08</td>\n",
       "    </tr>\n",
       "  </tbody>\n",
       "</table>\n",
       "<p>84726 rows × 6 columns</p>\n",
       "</div>"
      ],
      "text/plain": [
       "                     event_name                  uid            event_ts  \\\n",
       "2844           MainScreenAppear  4613461174774205834 2019-08-01 00:14:31   \n",
       "2845           MainScreenAppear  4613461174774205834 2019-08-01 00:14:34   \n",
       "2846           CartScreenAppear  4613461174774205834 2019-08-01 00:14:34   \n",
       "2847    PaymentScreenSuccessful  4613461174774205834 2019-08-01 00:14:43   \n",
       "2848         OffersScreenAppear  4613461174774205834 2019-08-01 00:14:51   \n",
       "...                         ...                  ...                 ...   \n",
       "244082         MainScreenAppear  8249271441488197538 2019-08-07 21:03:33   \n",
       "244084       OffersScreenAppear  8249271441488197538 2019-08-07 21:03:43   \n",
       "244109         MainScreenAppear  5317814261427487562 2019-08-07 21:09:22   \n",
       "244110       OffersScreenAppear  5317814261427487562 2019-08-07 21:09:27   \n",
       "244115       OffersScreenAppear  5317814261427487562 2019-08-07 21:10:08   \n",
       "\n",
       "        expid       date      time  \n",
       "2844      248 2019-08-01  00:14:31  \n",
       "2845      248 2019-08-01  00:14:34  \n",
       "2846      248 2019-08-01  00:14:34  \n",
       "2847      248 2019-08-01  00:14:43  \n",
       "2848      248 2019-08-01  00:14:51  \n",
       "...       ...        ...       ...  \n",
       "244082    248 2019-08-07  21:03:33  \n",
       "244084    248 2019-08-07  21:03:43  \n",
       "244109    248 2019-08-07  21:09:22  \n",
       "244110    248 2019-08-07  21:09:27  \n",
       "244115    248 2019-08-07  21:10:08  \n",
       "\n",
       "[84726 rows x 6 columns]"
      ]
     },
     "execution_count": 47,
     "metadata": {},
     "output_type": "execute_result"
    }
   ],
   "source": [
    "g248 = log_exp_df[log_exp_df['expid']== 248]\n",
    "g248"
   ]
  },
  {
   "cell_type": "markdown",
   "metadata": {},
   "source": [
    "## Estudiar el embudo de eventos"
   ]
  },
  {
   "cell_type": "markdown",
   "metadata": {},
   "source": [
    "### Observa qué eventos hay en los registros y su frecuencia de suceso. Ordénalos por frecuencia."
   ]
  },
  {
   "cell_type": "code",
   "execution_count": 49,
   "metadata": {},
   "outputs": [
    {
     "data": {
      "text/plain": [
       "array(['Tutorial', 'MainScreenAppear', 'OffersScreenAppear',\n",
       "       'CartScreenAppear', 'PaymentScreenSuccessful'], dtype=object)"
      ]
     },
     "execution_count": 49,
     "metadata": {},
     "output_type": "execute_result"
    }
   ],
   "source": [
    "log_exp_df['event_name'].unique() "
   ]
  },
  {
   "cell_type": "code",
   "execution_count": 51,
   "metadata": {},
   "outputs": [],
   "source": [
    "event_freq = log_exp_df['event_name'].value_counts() "
   ]
  },
  {
   "cell_type": "code",
   "execution_count": 52,
   "metadata": {},
   "outputs": [],
   "source": [
    "event_freq = event_freq.sort_values(ascending=False)"
   ]
  },
  {
   "cell_type": "code",
   "execution_count": 53,
   "metadata": {},
   "outputs": [
    {
     "data": {
      "text/plain": [
       "MainScreenAppear           117431\n",
       "OffersScreenAppear          46350\n",
       "CartScreenAppear            42365\n",
       "PaymentScreenSuccessful     34113\n",
       "Tutorial                     1039\n",
       "Name: event_name, dtype: int64"
      ]
     },
     "execution_count": 53,
     "metadata": {},
     "output_type": "execute_result"
    }
   ],
   "source": [
    "event_freq"
   ]
  },
  {
   "cell_type": "markdown",
   "metadata": {},
   "source": [
    "### Encuentra la cantidad de usuarios y usuarias que realizaron cada una de estas acciones. Ordena los eventos por el número de usuarios y usuarias. Calcula la proporción de usuarios y usuarias que realizaron la acción al menos una vez."
   ]
  },
  {
   "cell_type": "code",
   "execution_count": 54,
   "metadata": {},
   "outputs": [],
   "source": [
    "users_per_event = log_exp_df.groupby('event_name')['uid'].nunique()"
   ]
  },
  {
   "cell_type": "code",
   "execution_count": 65,
   "metadata": {},
   "outputs": [],
   "source": [
    "users_per_event = users_per_event.sort_values(ascending=False).sort_index()"
   ]
  },
  {
   "cell_type": "code",
   "execution_count": 66,
   "metadata": {},
   "outputs": [
    {
     "data": {
      "text/plain": [
       "event_name\n",
       "CartScreenAppear           3734\n",
       "MainScreenAppear           7419\n",
       "OffersScreenAppear         4593\n",
       "PaymentScreenSuccessful    3539\n",
       "Tutorial                    840\n",
       "Name: uid, dtype: int64"
      ]
     },
     "execution_count": 66,
     "metadata": {},
     "output_type": "execute_result"
    }
   ],
   "source": [
    "users_per_event "
   ]
  },
  {
   "cell_type": "code",
   "execution_count": 58,
   "metadata": {},
   "outputs": [],
   "source": [
    "user_percent = users_per_event/total_users"
   ]
  },
  {
   "cell_type": "code",
   "execution_count": 59,
   "metadata": {},
   "outputs": [
    {
     "data": {
      "text/plain": [
       "event_name\n",
       "MainScreenAppear           0.984736\n",
       "OffersScreenAppear         0.609636\n",
       "CartScreenAppear           0.495620\n",
       "PaymentScreenSuccessful    0.469737\n",
       "Tutorial                   0.111495\n",
       "Name: uid, dtype: float64"
      ]
     },
     "execution_count": 59,
     "metadata": {},
     "output_type": "execute_result"
    }
   ],
   "source": [
    "user_percent"
   ]
  },
  {
   "cell_type": "markdown",
   "metadata": {},
   "source": [
    "Al 90% de los usuarios les Aparece pantalla principal \n",
    "\n",
    "Al 46% de usuarios tienen una Pantalla de pago exitosa\n",
    "\n",
    "Al 49% de usuarios les Aparece pantalla de carrito\n",
    "\n",
    "Al 60% de los usuarios les Aparece pantalla de ofertas\n",
    "\n",
    "El Tutorial unicamente el 11% de los usuarios realizaron este evento. "
   ]
  },
  {
   "cell_type": "markdown",
   "metadata": {},
   "source": [
    "### ¿En qué orden crees que ocurrieron las acciones? ¿Todas son parte de una sola secuencia? No es necesario tenerlas en cuenta al calcular el embudo."
   ]
  },
  {
   "cell_type": "markdown",
   "metadata": {},
   "source": [
    "La secuencia lógica es la siguiente:\n",
    "\n",
    "    -Tutorial\n",
    "    -MainScreenAppear\n",
    "    -OffersScreenAppear\n",
    "    -CartScreenAppear\n",
    "    -PaymentScreenSuccessful \n",
    "    \n",
    "No todas son necesarias para un embudo, por ejemplo, tutorial puede descartarse al hacer un embudo en exito de compras, ya que un usuario puede saltarse este pase y realizar su compra sin ningún inconveniente"
   ]
  },
  {
   "cell_type": "markdown",
   "metadata": {},
   "source": [
    "### Utiliza el embudo de eventos para encontrar la proporción de usuarios y usuarias que pasan de una etapa a la siguiente. (Por ejemplo, para la secuencia de eventos A → B → C, calcula la proporción de usuarios en la etapa B a la cantidad de usuarios en la etapa A y la proporción de usuarios en la etapa C a la cantidad en la etapa B)."
   ]
  },
  {
   "cell_type": "code",
   "execution_count": 68,
   "metadata": {},
   "outputs": [],
   "source": [
    "events = users_per_event.index.tolist()\n",
    "counts = users_per_event.values\n",
    "\n",
    "proportion = pd.DataFrame ({'Events':events,\n",
    "                           'uid_uniques':counts,\n",
    "                           'transitio_ratio':[None] * len(counts)})"
   ]
  },
  {
   "cell_type": "code",
   "execution_count": 70,
   "metadata": {},
   "outputs": [],
   "source": [
    "for i in range(len(counts) - 1):\n",
    "    proportion.loc[i + 1, 'transitio_ratio'] = counts[i + 1] / counts[i] if counts[i] > 0 else 0"
   ]
  },
  {
   "cell_type": "code",
   "execution_count": 73,
   "metadata": {},
   "outputs": [
    {
     "name": "stdout",
     "output_type": "stream",
     "text": [
      "                    Events  uid_uniques transitio_ratio\n",
      "0         CartScreenAppear         3734            None\n",
      "1         MainScreenAppear         7419        1.986877\n",
      "2       OffersScreenAppear         4593        0.619086\n",
      "3  PaymentScreenSuccessful         3539         0.77052\n",
      "4                 Tutorial          840        0.237355\n"
     ]
    }
   ],
   "source": [
    "print(proportion)"
   ]
  },
  {
   "cell_type": "code",
   "execution_count": 80,
   "metadata": {},
   "outputs": [
    {
     "data": {
      "image/png": "[encoded data removed]",
      "text/plain": [
       "<Figure size 1000x600 with 1 Axes>"
      ]
     },
     "metadata": {},
     "output_type": "display_data"
    }
   ],
   "source": [
    "plt.figure(figsize=(10, 6))\n",
    "plt.barh(proportion['Events'], proportion['uid_uniques'])\n",
    "plt.xlabel('Número de Usuarios Únicos')\n",
    "plt.title('Embudo de Eventos')\n",
    "plt.grid(axis='x', linestyle='--', alpha=0.7)"
   ]
  },
  {
   "cell_type": "markdown",
   "metadata": {},
   "source": [
    "### ¿En qué etapa pierdes más usuarios y usuarias?"
   ]
  },
  {
   "cell_type": "markdown",
   "metadata": {},
   "source": [
    "Sin considerar la etapa de tutorial y la pagina de ofertas, ya que no es un evento que sea indispensable para que un usuario realice una compra, el evento donde más se pierden usuarios es en \"PaymentScreenSuccessful\""
   ]
  },
  {
   "cell_type": "markdown",
   "metadata": {},
   "source": [
    "### ¿Qué porcentaje de usuarios y usuarias hace todo el viaje desde su primer evento hasta el pago?"
   ]
  },
  {
   "cell_type": "code",
   "execution_count": 83,
   "metadata": {},
   "outputs": [],
   "source": [
    "users_payment = log_exp_df[log_exp_df['event_name'] == 'PaymentScreenSuccessful']['uid'].nunique()"
   ]
  },
  {
   "cell_type": "code",
   "execution_count": 86,
   "metadata": {},
   "outputs": [],
   "source": [
    "first_event = log_exp_df[log_exp_df['event_name'] == 'MainScreenAppear']['uid'].nunique()"
   ]
  },
  {
   "cell_type": "code",
   "execution_count": 87,
   "metadata": {},
   "outputs": [
    {
     "name": "stdout",
     "output_type": "stream",
     "text": [
      "El porcentaje de usuarios que hace todo el viaje desde el primer evento hasta el pago es: 47.70%\n"
     ]
    }
   ],
   "source": [
    "if first_event > 0:\n",
    "    porcent = (users_payment/ first_event) * 100\n",
    "else:\n",
    "    porcent= 0\n",
    "\n",
    "print(f\"El porcentaje de usuarios que hace todo el viaje desde el primer evento hasta el pago es: {porcent:.2f}%\")"
   ]
  },
  {
   "cell_type": "markdown",
   "metadata": {},
   "source": [
    "## Estudiar los resultados del experimento"
   ]
  },
  {
   "cell_type": "markdown",
   "metadata": {},
   "source": [
    "### ¿Cuántos usuarios y usuarias hay en cada grupo?"
   ]
  },
  {
   "cell_type": "code",
   "execution_count": 94,
   "metadata": {},
   "outputs": [],
   "source": [
    "total_g246 = g246['uid'].nunique()\n",
    "total_g247 = g247['uid'].nunique()\n",
    "total_g248 = g248['uid'].nunique()"
   ]
  },
  {
   "cell_type": "code",
   "execution_count": 95,
   "metadata": {},
   "outputs": [
    {
     "name": "stdout",
     "output_type": "stream",
     "text": [
      "Hay 2484 usuarios en el grupo 246\n",
      "Hay 2513 usuarios en el grupo 247\n",
      "Hay 2537 usuarios en el grupo 248\n"
     ]
    }
   ],
   "source": [
    "print(f'Hay {total_g246} usuarios en el grupo 246')\n",
    "print(f'Hay {total_g247} usuarios en el grupo 247')\n",
    "print(f'Hay {total_g248} usuarios en el grupo 248')"
   ]
  },
  {
   "cell_type": "markdown",
   "metadata": {},
   "source": [
    "### Tenemos dos grupos de control en el test A/A, donde comprobamos nuestros mecanismos y cálculos. Observa si hay una diferencia estadísticamente significativa entre las muestras 246 y 247."
   ]
  },
  {
   "cell_type": "markdown",
   "metadata": {},
   "source": [
    "Hipótesis nula (H0): No hay diferencia entre los grupos 246 y 247.\n",
    "\n",
    "Hipótesis alternativa (H1): Hay una diferencia entre los grupos 246 y 247"
   ]
  },
  {
   "cell_type": "code",
   "execution_count": 108,
   "metadata": {},
   "outputs": [],
   "source": [
    "event_g246 = g246.groupby('event_name')['uid'].nunique()"
   ]
  },
  {
   "cell_type": "code",
   "execution_count": 113,
   "metadata": {},
   "outputs": [
    {
     "data": {
      "text/plain": [
       "event_name\n",
       "CartScreenAppear           1266\n",
       "MainScreenAppear           2450\n",
       "OffersScreenAppear         1542\n",
       "PaymentScreenSuccessful    1200\n",
       "Tutorial                    278\n",
       "Name: uid, dtype: int64"
      ]
     },
     "execution_count": 113,
     "metadata": {},
     "output_type": "execute_result"
    }
   ],
   "source": [
    "event_g246"
   ]
  },
  {
   "cell_type": "code",
   "execution_count": 109,
   "metadata": {},
   "outputs": [],
   "source": [
    "event_g247 = g247.groupby('event_name')['uid'].nunique()\n",
    "\n"
   ]
  },
  {
   "cell_type": "code",
   "execution_count": 110,
   "metadata": {},
   "outputs": [
    {
     "data": {
      "text/plain": [
       "event_name\n",
       "CartScreenAppear           1238\n",
       "MainScreenAppear           2476\n",
       "OffersScreenAppear         1520\n",
       "PaymentScreenSuccessful    1158\n",
       "Tutorial                    283\n",
       "Name: uid, dtype: int64"
      ]
     },
     "execution_count": 110,
     "metadata": {},
     "output_type": "execute_result"
    }
   ],
   "source": [
    "event_g247 "
   ]
  },
  {
   "cell_type": "code",
   "execution_count": 112,
   "metadata": {},
   "outputs": [
    {
     "name": "stdout",
     "output_type": "stream",
     "text": [
      "Estadístico t: 0.02462483464245995\n",
      "Valor p: 0.9809573661651472\n",
      "No hay una diferencia estadísticamente significativa entre los grupos 246 y 247.\n"
     ]
    }
   ],
   "source": [
    "t_stat, p_value = stats.ttest_ind(event_g246, event_g247 )\n",
    "\n",
    "print(f'Estadístico t: {t_stat}')\n",
    "print(f'Valor p: {p_value}')\n",
    "\n",
    "\n",
    "alpha = 0.05\n",
    "if p_value < alpha:\n",
    "    print('Hay una diferencia estadísticamente significativa entre los grupos 246 y 247.')\n",
    "else:\n",
    "    print('No hay una diferencia estadísticamente significativa entre los grupos 246 y 247.')"
   ]
  },
  {
   "cell_type": "markdown",
   "metadata": {},
   "source": [
    "### Selecciona el evento más popular. En cada uno de los grupos de control, encuentra la cantidad de usuarios y usuarias que realizaron esta acción. Encuentra su proporción. Comprueba si la diferencia entre los grupos es estadísticamente significativa. Repite el procedimiento para todos los demás eventos (ahorrarás tiempo si creas una función especial para esta prueba). ¿Puedes confirmar que los grupos se dividieron correctamente?"
   ]
  },
  {
   "cell_type": "code",
   "execution_count": 137,
   "metadata": {},
   "outputs": [],
   "source": [
    "evento_mas_popular = 'MainScreenAppear'\n",
    "users_246 = g246[g246['event_name'] == 'MainScreenAppear']['uid'].nunique()\n",
    "users_247 = g247[g247['event_name'] == 'MainScreenAppear']['uid'].nunique()\n"
   ]
  },
  {
   "cell_type": "code",
   "execution_count": 132,
   "metadata": {},
   "outputs": [],
   "source": [
    "proportion246 = users_246 / total_g246\n",
    "proportion247 = users_247 / total_g247"
   ]
  },
  {
   "cell_type": "code",
   "execution_count": 139,
   "metadata": {},
   "outputs": [
    {
     "name": "stdout",
     "output_type": "stream",
     "text": [
      "Evento: MainScreenAppear\n",
      "Usuarios en 246: 2450, Proporción: 0.99\n",
      "Usuarios en 247: 2476, Proporción: 0.99\n",
      "Chi2: 0.03602851682130365, p-valor: 0.8494566142966455\n"
     ]
    }
   ],
   "source": [
    "tabla_contingencia = [[users_246, total_g246 - users_246],\n",
    "                      [users_247, total_g247 - users_247]]\n",
    "\n",
    "chi2, p_value, _, _ = stats.chi2_contingency(tabla_contingencia)\n",
    "\n",
    "print(f'Evento: {evento_mas_popular}')\n",
    "print(f'Usuarios en 246: {users_246}, Proporción: {proportion246:.2f}')\n",
    "print(f'Usuarios en 247: {users_247}, Proporción: {proportion247:.2f}')\n",
    "print(f'Chi2: {chi2}, p-valor: {p_value}')"
   ]
  },
  {
   "cell_type": "markdown",
   "metadata": {},
   "source": [
    "Hipótesis nula (H0): No hay diferencia entre los grupos 246 y 247.\n",
    "\n",
    "Hipótesis alternativa (H1): Hay una diferencia entre los grupos 246 y 247"
   ]
  },
  {
   "cell_type": "code",
   "execution_count": 143,
   "metadata": {},
   "outputs": [
    {
     "name": "stdout",
     "output_type": "stream",
     "text": [
      "                    evento  usuarios_246  proporcion_246  usuarios_247  \\\n",
      "0         MainScreenAppear          2450        0.986312          2476   \n",
      "1       OffersScreenAppear          1542        0.620773          1520   \n",
      "2         CartScreenAppear          1266        0.509662          1238   \n",
      "3  PaymentScreenSuccessful          1200        0.483092          1158   \n",
      "4                 Tutorial           278        0.111916           283   \n",
      "\n",
      "   proporcion_247      chi2   p_value  \n",
      "0        0.985277  0.036029  0.849457  \n",
      "1        0.604855  1.267755  0.260188  \n",
      "2        0.492638  1.380802  0.239965  \n",
      "3        0.460804  2.401436  0.121224  \n",
      "4        0.112614  0.001112  0.973395  \n"
     ]
    }
   ],
   "source": [
    "eventos_frecuencia = log_exp_df['event_name'].value_counts()\n",
    "def analizar_evento(log_exp_df, evento):\n",
    "    grupo_246 = log_exp_df[log_exp_df['expid'] == 246]\n",
    "    grupo_247 = log_exp_df[log_exp_df['expid'] == 247]\n",
    "\n",
    "    usuarios_246 = grupo_246[grupo_246['event_name'] == evento]['uid'].nunique()\n",
    "    usuarios_247 = grupo_247[grupo_247['event_name'] == evento]['uid'].nunique()\n",
    "\n",
    "    total_usuarios_246 = grupo_246['uid'].nunique()\n",
    "    total_usuarios_247 = grupo_247['uid'].nunique()\n",
    "\n",
    "    proporcion_246 = usuarios_246 / total_usuarios_246\n",
    "    proporcion_247 = usuarios_247 / total_usuarios_247\n",
    "\n",
    "  \n",
    "    tabla_contingencia = [[usuarios_246, total_usuarios_246 - usuarios_246],\n",
    "                          [usuarios_247, total_usuarios_247 - usuarios_247]]\n",
    "\n",
    "    chi2, p_value, _, _ = stats.chi2_contingency(tabla_contingencia)\n",
    "\n",
    "    return {\n",
    "        'evento': evento,\n",
    "        'usuarios_246': usuarios_246,\n",
    "        'proporcion_246': proporcion_246,\n",
    "        'usuarios_247': usuarios_247,\n",
    "        'proporcion_247': proporcion_247,\n",
    "        'chi2': chi2,\n",
    "        'p_value': p_value\n",
    "    }\n",
    "\n",
    "# Aplicar la función a todos los eventos\n",
    "resultados = []\n",
    "for evento in eventos_frecuencia.index:\n",
    "    resultados.append(analizar_evento(log_exp_df, evento))\n",
    "\n",
    "# Convertir resultados a un DataFrame\n",
    "resultados_df = pd.DataFrame(resultados)\n",
    "print(resultados_df)"
   ]
  },
  {
   "cell_type": "markdown",
   "metadata": {},
   "source": [
    "Si el p-valor es menor que 𝛼\n",
    "α, se rechaza la hipótesis nula. Esto indica que hay evidencia suficiente para concluir que hay una diferencia significativa entre las categorías.\n",
    "\n",
    "Un valor más alto de chi-cuadrado indica una mayor diferencia entre las frecuencias observadas y esperadas.\n",
    "\n",
    "Dado que ningun numero es menor que 0.05 en p_value indica que no hay ninguna diferencia significativa.  \n"
   ]
  },
  {
   "cell_type": "markdown",
   "metadata": {},
   "source": [
    "### Haz lo mismo para el grupo con fuentes alteradas. Compara los resultados con los de cada uno de los grupos de control para cada evento de forma aislada. Compara los resultados con los resultados combinados de los grupos de control. ¿Qué conclusiones puedes sacar del experimento?"
   ]
  },
  {
   "cell_type": "code",
   "execution_count": 144,
   "metadata": {},
   "outputs": [
    {
     "name": "stdout",
     "output_type": "stream",
     "text": [
      "                    evento  usuarios_246  proporcion_246  usuarios_247  \\\n",
      "0                 Tutorial           278        0.111916           283   \n",
      "1         MainScreenAppear          2450        0.986312          2476   \n",
      "2       OffersScreenAppear          1542        0.620773          1520   \n",
      "3         CartScreenAppear          1266        0.509662          1238   \n",
      "4  PaymentScreenSuccessful          1200        0.483092          1158   \n",
      "\n",
      "   proporcion_247  usuarios_248  proporcion_248  chi2_246_248  \\\n",
      "0        0.112614           279        0.109972      0.030396   \n",
      "1        0.985277          2493        0.982657      0.870773   \n",
      "2        0.604855          1531        0.603469      1.510734   \n",
      "3        0.492638          1230        0.484825      2.998600   \n",
      "4        0.460804          1181        0.465510      1.486262   \n",
      "\n",
      "   p_value_246_248  chi2_247_248  p_value_247_248  \n",
      "0         0.861595      0.064389         0.799688  \n",
      "1         0.350741      0.395598         0.529371  \n",
      "2         0.219027      0.005174         0.942655  \n",
      "3         0.083337      0.277993         0.598020  \n",
      "4         0.222797      0.094344         0.758725  \n"
     ]
    }
   ],
   "source": [
    "eventos_frecuencia = log_exp_df['event_name'].value_counts()\n",
    "# Función para analizar un evento en los grupos\n",
    "def analizar_evento_comparativo(log_exp_df, evento):\n",
    "    # Contar usuarios únicos para cada grupo\n",
    "    users_246 = g246[g246['event_name'] == evento]['uid'].nunique()\n",
    "    users_247 = g247[g247['event_name'] == evento]['uid'].nunique()\n",
    "    users_248 = g248[g248['event_name'] == evento]['uid'].nunique()\n",
    "    \n",
    "    total_246 = g246['uid'].nunique()\n",
    "    total_247 = g247['uid'].nunique()\n",
    "    total_248 = g248['uid'].nunique()\n",
    "    \n",
    "   \n",
    "    proportion_246 = users_246 / total_246\n",
    "    proportion_247 = users_247 / total_247\n",
    "    proportion_248 = users_248 / total_248\n",
    "    \n",
    "    #  tabla de contingencia para chi-cuadrado\n",
    "    tabla_contingencia_246_248 = [[users_246, total_246 - users_246],\n",
    "                                   [users_248, total_248 - users_248]]\n",
    "    \n",
    "    tabla_contingencia_247_248 = [[users_247, total_247 - users_247],\n",
    "                                   [users_248, total_248 - users_248]]\n",
    "    \n",
    "    \n",
    "    chi2_246_248, p_value_246_248, _, _ = stats.chi2_contingency(tabla_contingencia_246_248)\n",
    "    chi2_247_248, p_value_247_248, _, _ = stats.chi2_contingency(tabla_contingencia_247_248)\n",
    "    \n",
    "    return {\n",
    "        'evento': evento,\n",
    "        'usuarios_246': users_246,\n",
    "        'proporcion_246': proportion_246,\n",
    "        'usuarios_247': users_247,\n",
    "        'proporcion_247': proportion_247,\n",
    "        'usuarios_248': users_248,\n",
    "        'proporcion_248': proportion_248,\n",
    "        'chi2_246_248': chi2_246_248,\n",
    "        'p_value_246_248': p_value_246_248,\n",
    "        'chi2_247_248': chi2_247_248,\n",
    "        'p_value_247_248': p_value_247_248,\n",
    "    }\n",
    "\n",
    "# Analizar todos los eventos\n",
    "resultados = []\n",
    "for evento in log_exp_df['event_name'].unique():\n",
    "    resultados.append(analizar_evento_comparativo(log_exp_df, evento))\n",
    "\n",
    "# Convertir resultados a un DataFrame\n",
    "resultados_df = pd.DataFrame(resultados)\n",
    "print(resultados_df)\n"
   ]
  },
  {
   "cell_type": "markdown",
   "metadata": {},
   "source": [
    "\n",
    "Debido a que se encontro que en los p-valores son mayores a 0.05 en las comparaciones entre el grupo 248 y los grupos control, indicó que no hay una diferencia significativa entre los gruposs. "
   ]
  },
  {
   "cell_type": "markdown",
   "metadata": {},
   "source": [
    "Al comparar las proporciones enel grupo 248, y que no se comportaron de una manera diferente relación a los grupos de control,  podría sugerir que el nuevo diseño no afecta el comportamiento de los usuarios."
   ]
  },
  {
   "cell_type": "markdown",
   "metadata": {},
   "source": [
    "### ¿Qué nivel de significación has establecido para probar las hipótesis estadísticas mencionadas anteriormente? Calcula cuántas pruebas de hipótesis estadísticas has realizado. Con un nivel de significancia estadística de 0.1, uno de cada 10 resultados podría ser falso. ¿Cuál debería ser el nivel de significación? Si deseas cambiarlo, vuelve a ejecutar los pasos anteriores y comprueba tus conclusiones."
   ]
  },
  {
   "cell_type": "markdown",
   "metadata": {},
   "source": [
    "Para probar las hipotesis se utilizo unb nivel de significancia del 0.05, lo que implica que existe un 5% de probabilidad de obtener un resultado falso positivo. el nivel de significación es 0.1 (10%).\n",
    "\n",
    "Cuando se realizan varias pruebas de hipótesis, el riesgo de cometer un error tipo I (falso positivo) aumenta. Esto es conocido como el problema de las comparaciones múltiples. Si se usa un nivel de significación de 0.1 para cada prueba, la probabilidad de obtener al menos un resultado falso positivo en varias pruebas aumenta.\n",
    "\n",
    "Si se utiliza un nivel de significación de 0.1 sin ninguna corrección, aproximadamente 1 de cada 10 resultados podría ser falso.Por lo que se dejara el nivel de significación en 0.05."
   ]
  },
  {
   "cell_type": "code",
   "execution_count": null,
   "metadata": {},
   "outputs": [],
   "source": []
  }
 ],
 "metadata": {
  "ExecuteTimeLog": [
   {
    "duration": 311,
    "start_time": "2024-10-25T15:30:19.916Z"
   },
   {
    "duration": 204,
    "start_time": "2024-10-25T15:32:46.030Z"
   },
   {
    "duration": 11,
    "start_time": "2024-10-25T15:32:54.775Z"
   },
   {
    "duration": 6,
    "start_time": "2024-10-25T15:33:25.363Z"
   },
   {
    "duration": 3,
    "start_time": "2024-10-25T15:34:06.191Z"
   },
   {
    "duration": 3,
    "start_time": "2024-10-25T15:34:10.872Z"
   },
   {
    "duration": 3,
    "start_time": "2024-10-25T15:34:19.672Z"
   },
   {
    "duration": 199,
    "start_time": "2024-10-25T15:35:56.511Z"
   },
   {
    "duration": 7,
    "start_time": "2024-10-25T15:36:00.184Z"
   },
   {
    "duration": 181,
    "start_time": "2024-10-25T15:36:03.840Z"
   },
   {
    "duration": 7,
    "start_time": "2024-10-25T15:36:07.795Z"
   },
   {
    "duration": 382,
    "start_time": "2024-10-25T15:36:13.577Z"
   },
   {
    "duration": 8,
    "start_time": "2024-10-25T15:36:24.462Z"
   },
   {
    "duration": 95,
    "start_time": "2024-10-25T15:38:39.261Z"
   },
   {
    "duration": 8,
    "start_time": "2024-10-25T15:38:41.962Z"
   },
   {
    "duration": 5,
    "start_time": "2024-10-25T15:49:41.187Z"
   },
   {
    "duration": 4,
    "start_time": "2024-10-25T15:53:28.673Z"
   },
   {
    "duration": 195,
    "start_time": "2024-10-25T15:53:34.503Z"
   },
   {
    "duration": 4,
    "start_time": "2024-10-25T15:53:52.236Z"
   },
   {
    "duration": 12,
    "start_time": "2024-10-25T15:53:56.595Z"
   },
   {
    "duration": 4,
    "start_time": "2024-10-25T15:54:16.180Z"
   },
   {
    "duration": 246,
    "start_time": "2024-10-25T19:38:41.969Z"
   },
   {
    "duration": 316,
    "start_time": "2024-10-25T19:38:54.594Z"
   },
   {
    "duration": 168,
    "start_time": "2024-10-25T19:38:54.913Z"
   },
   {
    "duration": 15,
    "start_time": "2024-10-25T19:38:55.083Z"
   },
   {
    "duration": 198,
    "start_time": "2024-10-25T19:38:55.102Z"
   },
   {
    "duration": 16,
    "start_time": "2024-10-25T19:39:53.668Z"
   },
   {
    "duration": 670,
    "start_time": "2024-10-25T19:40:24.809Z"
   },
   {
    "duration": 342,
    "start_time": "2024-10-25T19:40:44.927Z"
   },
   {
    "duration": 7,
    "start_time": "2024-10-25T19:41:49.116Z"
   },
   {
    "duration": 10,
    "start_time": "2024-10-25T19:41:58.400Z"
   },
   {
    "duration": 9,
    "start_time": "2024-10-25T19:48:40.405Z"
   },
   {
    "duration": 15,
    "start_time": "2024-10-25T19:48:46.153Z"
   },
   {
    "duration": 16,
    "start_time": "2024-10-25T19:50:57.820Z"
   },
   {
    "duration": 29,
    "start_time": "2024-10-25T19:51:10.249Z"
   },
   {
    "duration": 15,
    "start_time": "2024-10-25T19:51:19.743Z"
   },
   {
    "duration": 11,
    "start_time": "2024-10-25T20:23:13.276Z"
   },
   {
    "duration": 17,
    "start_time": "2024-10-25T20:25:10.432Z"
   },
   {
    "duration": 41,
    "start_time": "2024-10-25T20:25:14.738Z"
   },
   {
    "duration": 279,
    "start_time": "2024-10-25T20:25:53.893Z"
   },
   {
    "duration": 130,
    "start_time": "2024-10-25T20:26:08.860Z"
   },
   {
    "duration": 17,
    "start_time": "2024-10-25T20:26:14.520Z"
   },
   {
    "duration": 41,
    "start_time": "2024-10-25T20:26:43.449Z"
   },
   {
    "duration": 321,
    "start_time": "2024-10-25T20:27:07.071Z"
   },
   {
    "duration": 110,
    "start_time": "2024-10-25T20:27:07.394Z"
   },
   {
    "duration": 29,
    "start_time": "2024-10-25T20:27:07.506Z"
   },
   {
    "duration": 8,
    "start_time": "2024-10-25T20:27:07.537Z"
   },
   {
    "duration": 15,
    "start_time": "2024-10-25T20:27:07.548Z"
   },
   {
    "duration": 19,
    "start_time": "2024-10-25T20:27:07.564Z"
   },
   {
    "duration": 48,
    "start_time": "2024-10-25T20:27:07.586Z"
   },
   {
    "duration": 18,
    "start_time": "2024-10-25T20:27:07.635Z"
   },
   {
    "duration": 134,
    "start_time": "2024-10-25T20:27:07.655Z"
   },
   {
    "duration": 16,
    "start_time": "2024-10-25T20:27:07.791Z"
   },
   {
    "duration": 203,
    "start_time": "2024-10-25T20:28:58.278Z"
   },
   {
    "duration": 6,
    "start_time": "2024-10-25T20:29:04.415Z"
   },
   {
    "duration": 6,
    "start_time": "2024-10-25T20:30:02.502Z"
   },
   {
    "duration": 16,
    "start_time": "2024-10-25T20:36:33.206Z"
   },
   {
    "duration": 8,
    "start_time": "2024-10-25T20:43:12.865Z"
   },
   {
    "duration": 8,
    "start_time": "2024-10-25T20:43:50.253Z"
   },
   {
    "duration": 13,
    "start_time": "2024-10-25T20:44:10.561Z"
   },
   {
    "duration": 7,
    "start_time": "2024-10-25T20:44:14.620Z"
   },
   {
    "duration": 6,
    "start_time": "2024-10-25T20:44:19.901Z"
   },
   {
    "duration": 7,
    "start_time": "2024-10-25T20:44:27.753Z"
   },
   {
    "duration": 164,
    "start_time": "2024-10-25T20:52:37.255Z"
   },
   {
    "duration": 244,
    "start_time": "2024-10-25T20:52:45.585Z"
   },
   {
    "duration": 3,
    "start_time": "2024-10-25T20:57:03.584Z"
   },
   {
    "duration": 4,
    "start_time": "2024-10-25T20:57:09.136Z"
   },
   {
    "duration": 3,
    "start_time": "2024-10-25T20:58:00.528Z"
   },
   {
    "duration": 2,
    "start_time": "2024-10-25T20:58:04.319Z"
   },
   {
    "duration": 12,
    "start_time": "2024-10-25T20:58:17.166Z"
   },
   {
    "duration": 2,
    "start_time": "2024-10-25T20:58:21.488Z"
   },
   {
    "duration": 7,
    "start_time": "2024-10-25T20:59:27.085Z"
   },
   {
    "duration": 2,
    "start_time": "2024-10-25T21:00:52.909Z"
   },
   {
    "duration": 3,
    "start_time": "2024-10-25T21:01:26.920Z"
   },
   {
    "duration": 3,
    "start_time": "2024-10-25T21:01:35.382Z"
   },
   {
    "duration": 3,
    "start_time": "2024-10-25T21:01:48.048Z"
   },
   {
    "duration": 161,
    "start_time": "2024-10-31T19:12:16.689Z"
   },
   {
    "duration": 328,
    "start_time": "2024-10-31T19:12:21.233Z"
   },
   {
    "duration": 126,
    "start_time": "2024-10-31T19:12:21.563Z"
   },
   {
    "duration": 12,
    "start_time": "2024-10-31T19:12:21.691Z"
   },
   {
    "duration": 5,
    "start_time": "2024-10-31T19:12:21.705Z"
   },
   {
    "duration": 19,
    "start_time": "2024-10-31T19:12:21.713Z"
   },
   {
    "duration": 15,
    "start_time": "2024-10-31T19:12:21.734Z"
   },
   {
    "duration": 29,
    "start_time": "2024-10-31T19:12:21.751Z"
   },
   {
    "duration": 15,
    "start_time": "2024-10-31T19:12:21.781Z"
   },
   {
    "duration": 127,
    "start_time": "2024-10-31T19:12:21.798Z"
   },
   {
    "duration": 16,
    "start_time": "2024-10-31T19:12:21.931Z"
   },
   {
    "duration": 18,
    "start_time": "2024-10-31T19:12:21.949Z"
   },
   {
    "duration": 4,
    "start_time": "2024-10-31T19:12:21.969Z"
   },
   {
    "duration": 7,
    "start_time": "2024-10-31T19:12:21.975Z"
   },
   {
    "duration": 2,
    "start_time": "2024-10-31T19:12:21.986Z"
   },
   {
    "duration": 465,
    "start_time": "2024-10-31T19:12:21.990Z"
   },
   {
    "duration": 0,
    "start_time": "2024-10-31T19:12:22.457Z"
   },
   {
    "duration": 12,
    "start_time": "2024-10-31T19:12:25.565Z"
   },
   {
    "duration": 29,
    "start_time": "2024-10-31T19:12:41.900Z"
   },
   {
    "duration": 20,
    "start_time": "2024-10-31T19:13:09.682Z"
   },
   {
    "duration": 13,
    "start_time": "2024-10-31T19:14:11.473Z"
   },
   {
    "duration": 6,
    "start_time": "2024-10-31T19:19:44.419Z"
   },
   {
    "duration": 9,
    "start_time": "2024-10-31T19:24:59.070Z"
   },
   {
    "duration": 28,
    "start_time": "2024-10-31T19:25:02.570Z"
   },
   {
    "duration": 107,
    "start_time": "2024-10-31T19:25:04.976Z"
   },
   {
    "duration": 15,
    "start_time": "2024-10-31T19:25:07.329Z"
   },
   {
    "duration": 22,
    "start_time": "2024-10-31T19:25:10.399Z"
   },
   {
    "duration": 15,
    "start_time": "2024-10-31T19:25:14.513Z"
   },
   {
    "duration": 3,
    "start_time": "2024-10-31T19:25:15.113Z"
   },
   {
    "duration": 6,
    "start_time": "2024-10-31T19:25:18.162Z"
   },
   {
    "duration": 3,
    "start_time": "2024-10-31T19:25:21.057Z"
   },
   {
    "duration": 18,
    "start_time": "2024-10-31T19:25:22.627Z"
   },
   {
    "duration": 12,
    "start_time": "2024-10-31T19:25:31.850Z"
   },
   {
    "duration": 8,
    "start_time": "2024-10-31T19:27:20.165Z"
   },
   {
    "duration": 5,
    "start_time": "2024-10-31T19:27:32.117Z"
   },
   {
    "duration": 2,
    "start_time": "2024-10-31T20:00:10.034Z"
   },
   {
    "duration": 98,
    "start_time": "2024-10-31T20:00:10.040Z"
   },
   {
    "duration": 8,
    "start_time": "2024-10-31T20:00:10.140Z"
   },
   {
    "duration": 6,
    "start_time": "2024-10-31T20:00:10.150Z"
   },
   {
    "duration": 7,
    "start_time": "2024-10-31T20:00:10.158Z"
   },
   {
    "duration": 14,
    "start_time": "2024-10-31T20:00:10.169Z"
   },
   {
    "duration": 4,
    "start_time": "2024-10-31T20:00:10.185Z"
   },
   {
    "duration": 48,
    "start_time": "2024-10-31T20:00:10.191Z"
   },
   {
    "duration": 108,
    "start_time": "2024-10-31T20:00:10.241Z"
   },
   {
    "duration": 15,
    "start_time": "2024-10-31T20:00:10.351Z"
   },
   {
    "duration": 16,
    "start_time": "2024-10-31T20:00:10.367Z"
   },
   {
    "duration": 2,
    "start_time": "2024-10-31T20:00:10.386Z"
   },
   {
    "duration": 6,
    "start_time": "2024-10-31T20:00:10.390Z"
   },
   {
    "duration": 4,
    "start_time": "2024-10-31T20:00:10.398Z"
   },
   {
    "duration": 19,
    "start_time": "2024-10-31T20:00:10.434Z"
   },
   {
    "duration": 12,
    "start_time": "2024-10-31T20:00:10.454Z"
   },
   {
    "duration": 5,
    "start_time": "2024-10-31T21:07:56.614Z"
   },
   {
    "duration": 4,
    "start_time": "2024-10-31T21:08:13.361Z"
   },
   {
    "duration": 2348,
    "start_time": "2024-10-31T21:19:49.603Z"
   },
   {
    "duration": 380,
    "start_time": "2024-10-31T21:20:16.216Z"
   },
   {
    "duration": 281,
    "start_time": "2024-10-31T21:20:32.153Z"
   },
   {
    "duration": 7,
    "start_time": "2024-10-31T21:22:22.769Z"
   },
   {
    "duration": 309,
    "start_time": "2024-10-31T21:22:30.325Z"
   },
   {
    "duration": 22,
    "start_time": "2024-10-31T21:22:58.644Z"
   },
   {
    "duration": 282,
    "start_time": "2024-10-31T21:26:44.830Z"
   },
   {
    "duration": 4,
    "start_time": "2024-10-31T21:27:13.136Z"
   },
   {
    "duration": 291,
    "start_time": "2024-10-31T21:27:27.360Z"
   },
   {
    "duration": 421,
    "start_time": "2024-10-31T21:27:58.075Z"
   },
   {
    "duration": 19,
    "start_time": "2024-10-31T21:29:12.531Z"
   },
   {
    "duration": 293,
    "start_time": "2024-10-31T21:29:27.530Z"
   },
   {
    "duration": 677,
    "start_time": "2024-10-31T21:45:54.158Z"
   },
   {
    "duration": 151,
    "start_time": "2024-10-31T21:46:34.715Z"
   },
   {
    "duration": 5,
    "start_time": "2024-10-31T21:46:45.382Z"
   },
   {
    "duration": 21,
    "start_time": "2024-10-31T21:47:16.432Z"
   },
   {
    "duration": 33,
    "start_time": "2024-10-31T21:47:22.382Z"
   },
   {
    "duration": 30,
    "start_time": "2024-10-31T21:47:52.321Z"
   },
   {
    "duration": 285,
    "start_time": "2024-10-31T21:48:20.841Z"
   },
   {
    "duration": 16,
    "start_time": "2024-10-31T21:49:59.225Z"
   },
   {
    "duration": 28,
    "start_time": "2024-10-31T21:50:17.619Z"
   },
   {
    "duration": 302,
    "start_time": "2024-10-31T21:50:30.531Z"
   },
   {
    "duration": 4,
    "start_time": "2024-10-31T21:51:14.963Z"
   },
   {
    "duration": 7,
    "start_time": "2024-10-31T21:51:39.304Z"
   },
   {
    "duration": 5,
    "start_time": "2024-10-31T21:51:45.922Z"
   },
   {
    "duration": 7,
    "start_time": "2024-10-31T21:51:54.030Z"
   },
   {
    "duration": 7,
    "start_time": "2024-10-31T21:51:55.769Z"
   },
   {
    "duration": 902,
    "start_time": "2024-10-31T21:52:03.666Z"
   },
   {
    "duration": 106,
    "start_time": "2024-10-31T21:52:04.571Z"
   },
   {
    "duration": 12,
    "start_time": "2024-10-31T21:52:04.678Z"
   },
   {
    "duration": 5,
    "start_time": "2024-10-31T21:52:04.692Z"
   },
   {
    "duration": 8,
    "start_time": "2024-10-31T21:52:04.700Z"
   },
   {
    "duration": 18,
    "start_time": "2024-10-31T21:52:04.732Z"
   },
   {
    "duration": 9,
    "start_time": "2024-10-31T21:52:04.752Z"
   },
   {
    "duration": 19,
    "start_time": "2024-10-31T21:52:04.763Z"
   },
   {
    "duration": 169,
    "start_time": "2024-10-31T21:52:04.783Z"
   },
   {
    "duration": 482,
    "start_time": "2024-10-31T21:52:04.954Z"
   },
   {
    "duration": 0,
    "start_time": "2024-10-31T21:52:05.439Z"
   },
   {
    "duration": 0,
    "start_time": "2024-10-31T21:52:05.441Z"
   },
   {
    "duration": 0,
    "start_time": "2024-10-31T21:52:05.442Z"
   },
   {
    "duration": 0,
    "start_time": "2024-10-31T21:52:05.443Z"
   },
   {
    "duration": 0,
    "start_time": "2024-10-31T21:52:05.444Z"
   },
   {
    "duration": 0,
    "start_time": "2024-10-31T21:52:05.445Z"
   },
   {
    "duration": 0,
    "start_time": "2024-10-31T21:52:05.447Z"
   },
   {
    "duration": 0,
    "start_time": "2024-10-31T21:52:05.448Z"
   },
   {
    "duration": 0,
    "start_time": "2024-10-31T21:52:05.449Z"
   },
   {
    "duration": 0,
    "start_time": "2024-10-31T21:52:05.450Z"
   },
   {
    "duration": 0,
    "start_time": "2024-10-31T21:52:05.452Z"
   },
   {
    "duration": 0,
    "start_time": "2024-10-31T21:52:05.453Z"
   },
   {
    "duration": 0,
    "start_time": "2024-10-31T21:52:05.454Z"
   },
   {
    "duration": 0,
    "start_time": "2024-10-31T21:52:05.456Z"
   },
   {
    "duration": 4,
    "start_time": "2024-10-31T21:54:43.974Z"
   },
   {
    "duration": 145,
    "start_time": "2024-10-31T21:54:43.979Z"
   },
   {
    "duration": 23,
    "start_time": "2024-10-31T21:54:44.129Z"
   },
   {
    "duration": 9,
    "start_time": "2024-10-31T21:54:44.156Z"
   },
   {
    "duration": 11,
    "start_time": "2024-10-31T21:54:44.169Z"
   },
   {
    "duration": 21,
    "start_time": "2024-10-31T21:54:44.182Z"
   },
   {
    "duration": 8,
    "start_time": "2024-10-31T21:54:44.205Z"
   },
   {
    "duration": 28,
    "start_time": "2024-10-31T21:54:44.215Z"
   },
   {
    "duration": 178,
    "start_time": "2024-10-31T21:54:44.244Z"
   },
   {
    "duration": 7,
    "start_time": "2024-10-31T21:54:44.425Z"
   },
   {
    "duration": 37,
    "start_time": "2024-10-31T21:54:44.435Z"
   },
   {
    "duration": 24,
    "start_time": "2024-10-31T21:54:44.474Z"
   },
   {
    "duration": 39,
    "start_time": "2024-10-31T21:54:44.500Z"
   },
   {
    "duration": 8,
    "start_time": "2024-10-31T21:54:44.552Z"
   },
   {
    "duration": 9,
    "start_time": "2024-10-31T21:54:44.562Z"
   },
   {
    "duration": 3,
    "start_time": "2024-10-31T21:54:44.574Z"
   },
   {
    "duration": 10,
    "start_time": "2024-10-31T21:54:44.580Z"
   },
   {
    "duration": 38,
    "start_time": "2024-10-31T21:54:44.592Z"
   },
   {
    "duration": 561,
    "start_time": "2024-10-31T21:54:44.632Z"
   },
   {
    "duration": 43,
    "start_time": "2024-10-31T21:54:45.195Z"
   },
   {
    "duration": 862,
    "start_time": "2024-10-31T21:54:45.240Z"
   },
   {
    "duration": 0,
    "start_time": "2024-10-31T21:54:46.104Z"
   },
   {
    "duration": 0,
    "start_time": "2024-10-31T21:54:46.106Z"
   },
   {
    "duration": 14,
    "start_time": "2024-10-31T21:56:36.462Z"
   },
   {
    "duration": 3,
    "start_time": "2024-10-31T21:56:59.251Z"
   },
   {
    "duration": 17,
    "start_time": "2024-10-31T21:57:03.757Z"
   },
   {
    "duration": 168,
    "start_time": "2024-10-31T21:58:16.418Z"
   },
   {
    "duration": 612,
    "start_time": "2024-10-31T21:58:54.419Z"
   },
   {
    "duration": 28,
    "start_time": "2024-10-31T21:58:58.197Z"
   },
   {
    "duration": 30,
    "start_time": "2024-10-31T21:59:01.752Z"
   },
   {
    "duration": 619,
    "start_time": "2024-10-31T21:59:10.036Z"
   },
   {
    "duration": 37,
    "start_time": "2024-10-31T21:59:11.478Z"
   },
   {
    "duration": 38,
    "start_time": "2024-10-31T21:59:35.204Z"
   },
   {
    "duration": 38,
    "start_time": "2024-10-31T22:00:23.256Z"
   },
   {
    "duration": 23,
    "start_time": "2024-10-31T22:00:27.263Z"
   },
   {
    "duration": 160,
    "start_time": "2024-11-04T20:42:06.478Z"
   },
   {
    "duration": 11,
    "start_time": "2024-11-04T20:46:16.636Z"
   },
   {
    "duration": 11,
    "start_time": "2024-11-04T20:46:32.777Z"
   },
   {
    "duration": 2669,
    "start_time": "2024-11-04T20:46:38.813Z"
   },
   {
    "duration": 143,
    "start_time": "2024-11-04T20:46:41.485Z"
   },
   {
    "duration": 12,
    "start_time": "2024-11-04T20:46:41.632Z"
   },
   {
    "duration": 6,
    "start_time": "2024-11-04T20:46:41.646Z"
   },
   {
    "duration": 8,
    "start_time": "2024-11-04T20:46:41.655Z"
   },
   {
    "duration": 17,
    "start_time": "2024-11-04T20:46:41.665Z"
   },
   {
    "duration": 10,
    "start_time": "2024-11-04T20:46:41.684Z"
   },
   {
    "duration": 44,
    "start_time": "2024-11-04T20:46:41.695Z"
   },
   {
    "duration": 116,
    "start_time": "2024-11-04T20:46:41.741Z"
   },
   {
    "duration": 28,
    "start_time": "2024-11-04T20:46:41.859Z"
   },
   {
    "duration": 15,
    "start_time": "2024-11-04T20:46:41.889Z"
   },
   {
    "duration": 35,
    "start_time": "2024-11-04T20:46:41.906Z"
   },
   {
    "duration": 3,
    "start_time": "2024-11-04T20:46:41.943Z"
   },
   {
    "duration": 9,
    "start_time": "2024-11-04T20:46:41.950Z"
   },
   {
    "duration": 4,
    "start_time": "2024-11-04T20:46:41.961Z"
   },
   {
    "duration": 5,
    "start_time": "2024-11-04T20:46:41.967Z"
   },
   {
    "duration": 22,
    "start_time": "2024-11-04T20:46:41.974Z"
   },
   {
    "duration": 492,
    "start_time": "2024-11-04T20:46:41.997Z"
   },
   {
    "duration": 28,
    "start_time": "2024-11-04T20:46:42.491Z"
   },
   {
    "duration": 79,
    "start_time": "2024-11-04T20:47:14.215Z"
   },
   {
    "duration": 15,
    "start_time": "2024-11-04T20:47:30.926Z"
   },
   {
    "duration": 19,
    "start_time": "2024-11-04T20:47:41.163Z"
   },
   {
    "duration": 259,
    "start_time": "2024-11-04T20:47:46.649Z"
   },
   {
    "duration": 8,
    "start_time": "2024-11-04T20:49:13.522Z"
   },
   {
    "duration": 166,
    "start_time": "2024-11-04T20:50:05.940Z"
   },
   {
    "duration": 158,
    "start_time": "2024-11-04T20:52:31.736Z"
   },
   {
    "duration": 259,
    "start_time": "2024-11-04T20:53:26.161Z"
   },
   {
    "duration": 281,
    "start_time": "2024-11-04T20:53:43.089Z"
   },
   {
    "duration": 12,
    "start_time": "2024-11-04T20:55:59.955Z"
   },
   {
    "duration": 234,
    "start_time": "2024-11-04T20:56:34.585Z"
   },
   {
    "duration": 38,
    "start_time": "2024-11-04T20:57:35.535Z"
   },
   {
    "duration": 13,
    "start_time": "2024-11-04T20:57:41.433Z"
   },
   {
    "duration": 13,
    "start_time": "2024-11-04T20:58:57.633Z"
   },
   {
    "duration": 8,
    "start_time": "2024-11-04T21:01:05.021Z"
   },
   {
    "duration": 6,
    "start_time": "2024-11-04T21:04:23.759Z"
   },
   {
    "duration": 3,
    "start_time": "2024-11-04T21:05:46.471Z"
   },
   {
    "duration": 4,
    "start_time": "2024-11-04T21:05:59.197Z"
   },
   {
    "duration": 7,
    "start_time": "2024-11-04T21:06:27.563Z"
   },
   {
    "duration": 7,
    "start_time": "2024-11-04T21:06:46.099Z"
   },
   {
    "duration": 6,
    "start_time": "2024-11-04T21:07:09.140Z"
   },
   {
    "duration": 20,
    "start_time": "2024-11-04T21:07:52.115Z"
   },
   {
    "duration": 17,
    "start_time": "2024-11-04T21:08:03.573Z"
   },
   {
    "duration": 8,
    "start_time": "2024-11-04T21:08:15.657Z"
   },
   {
    "duration": 18,
    "start_time": "2024-11-04T21:08:22.594Z"
   },
   {
    "duration": 22,
    "start_time": "2024-11-04T21:12:28.655Z"
   },
   {
    "duration": 14,
    "start_time": "2024-11-04T21:12:33.924Z"
   },
   {
    "duration": 15,
    "start_time": "2024-11-04T21:14:11.917Z"
   },
   {
    "duration": 17,
    "start_time": "2024-11-04T21:14:33.142Z"
   },
   {
    "duration": 3,
    "start_time": "2024-11-04T21:15:28.077Z"
   },
   {
    "duration": 5,
    "start_time": "2024-11-04T21:15:35.496Z"
   },
   {
    "duration": 35,
    "start_time": "2024-11-04T21:21:23.221Z"
   },
   {
    "duration": 3,
    "start_time": "2024-11-04T21:22:02.223Z"
   },
   {
    "duration": 4,
    "start_time": "2024-11-04T21:22:08.416Z"
   },
   {
    "duration": 5,
    "start_time": "2024-11-04T21:23:49.631Z"
   },
   {
    "duration": 3,
    "start_time": "2024-11-04T21:24:38.781Z"
   },
   {
    "duration": 5,
    "start_time": "2024-11-04T21:24:44.540Z"
   },
   {
    "duration": 14,
    "start_time": "2024-11-04T21:48:38.151Z"
   },
   {
    "duration": 2,
    "start_time": "2024-11-04T21:49:05.636Z"
   },
   {
    "duration": 168,
    "start_time": "2024-11-04T21:49:12.681Z"
   },
   {
    "duration": 43,
    "start_time": "2024-11-04T21:49:23.908Z"
   },
   {
    "duration": 96,
    "start_time": "2024-11-04T21:49:41.012Z"
   },
   {
    "duration": 3,
    "start_time": "2024-11-04T21:51:21.692Z"
   },
   {
    "duration": 4,
    "start_time": "2024-11-04T21:51:24.354Z"
   },
   {
    "duration": 16,
    "start_time": "2024-11-04T21:57:24.570Z"
   },
   {
    "duration": 4,
    "start_time": "2024-11-04T21:57:35.757Z"
   },
   {
    "duration": 5,
    "start_time": "2024-11-04T21:58:53.164Z"
   },
   {
    "duration": 4,
    "start_time": "2024-11-04T21:59:06.168Z"
   },
   {
    "duration": 15,
    "start_time": "2024-11-04T21:59:53.771Z"
   },
   {
    "duration": 14,
    "start_time": "2024-11-04T22:00:00.048Z"
   },
   {
    "duration": 4,
    "start_time": "2024-11-04T22:00:05.061Z"
   },
   {
    "duration": 19,
    "start_time": "2024-11-04T22:01:36.965Z"
   },
   {
    "duration": 18,
    "start_time": "2024-11-04T22:01:41.959Z"
   },
   {
    "duration": 215,
    "start_time": "2024-11-04T22:01:53.811Z"
   },
   {
    "duration": 128,
    "start_time": "2024-11-04T22:02:43.906Z"
   },
   {
    "duration": 5,
    "start_time": "2024-11-04T22:02:52.809Z"
   },
   {
    "duration": 854,
    "start_time": "2024-11-04T22:03:03.596Z"
   },
   {
    "duration": 146,
    "start_time": "2024-11-04T22:03:15.676Z"
   },
   {
    "duration": 14,
    "start_time": "2024-11-04T22:14:48.770Z"
   },
   {
    "duration": 210,
    "start_time": "2024-11-04T22:14:59.393Z"
   },
   {
    "duration": 18,
    "start_time": "2024-11-04T22:17:20.466Z"
   },
   {
    "duration": 5,
    "start_time": "2024-11-04T22:18:38.915Z"
   },
   {
    "duration": 7,
    "start_time": "2024-11-04T22:18:47.112Z"
   },
   {
    "duration": 21,
    "start_time": "2024-11-04T22:19:56.159Z"
   },
   {
    "duration": 3,
    "start_time": "2024-11-04T22:21:08.733Z"
   },
   {
    "duration": 4,
    "start_time": "2024-11-04T22:41:21.179Z"
   },
   {
    "duration": 4,
    "start_time": "2024-11-04T22:41:29.726Z"
   },
   {
    "duration": 16,
    "start_time": "2024-11-04T22:43:05.931Z"
   },
   {
    "duration": 3,
    "start_time": "2024-11-04T22:43:56.450Z"
   },
   {
    "duration": 5,
    "start_time": "2024-11-04T22:44:52.427Z"
   },
   {
    "duration": 3,
    "start_time": "2024-11-04T22:44:55.592Z"
   },
   {
    "duration": 6,
    "start_time": "2024-11-04T22:45:02.556Z"
   },
   {
    "duration": 4,
    "start_time": "2024-11-04T22:45:03.388Z"
   },
   {
    "duration": 17,
    "start_time": "2024-11-04T22:50:18.026Z"
   },
   {
    "duration": 3,
    "start_time": "2024-11-04T22:50:36.773Z"
   },
   {
    "duration": 15,
    "start_time": "2024-11-04T22:50:47.213Z"
   },
   {
    "duration": 3453,
    "start_time": "2024-11-04T22:50:56.321Z"
   },
   {
    "duration": 12,
    "start_time": "2024-11-04T22:52:01.518Z"
   },
   {
    "duration": 4,
    "start_time": "2024-11-04T22:58:17.100Z"
   },
   {
    "duration": 13,
    "start_time": "2024-11-04T22:58:24.985Z"
   },
   {
    "duration": 15,
    "start_time": "2024-11-04T22:58:43.092Z"
   },
   {
    "duration": 4,
    "start_time": "2024-11-04T22:59:01.863Z"
   },
   {
    "duration": 8,
    "start_time": "2024-11-04T22:59:21.177Z"
   },
   {
    "duration": 13,
    "start_time": "2024-11-04T22:59:37.613Z"
   },
   {
    "duration": 15,
    "start_time": "2024-11-04T22:59:54.018Z"
   },
   {
    "duration": 13,
    "start_time": "2024-11-04T23:13:37.524Z"
   },
   {
    "duration": 13,
    "start_time": "2024-11-04T23:14:10.149Z"
   },
   {
    "duration": 4,
    "start_time": "2024-11-04T23:14:35.104Z"
   },
   {
    "duration": 4,
    "start_time": "2024-11-04T23:14:57.960Z"
   },
   {
    "duration": 4,
    "start_time": "2024-11-04T23:15:57.327Z"
   },
   {
    "duration": 4,
    "start_time": "2024-11-04T23:23:30.390Z"
   },
   {
    "duration": 4,
    "start_time": "2024-11-04T23:24:14.062Z"
   },
   {
    "duration": 15,
    "start_time": "2024-11-04T23:24:18.839Z"
   },
   {
    "duration": 218,
    "start_time": "2024-11-04T23:24:40.201Z"
   },
   {
    "duration": 14,
    "start_time": "2024-11-04T23:24:57.139Z"
   },
   {
    "duration": 4,
    "start_time": "2024-11-04T23:25:18.234Z"
   },
   {
    "duration": 4,
    "start_time": "2024-11-04T23:25:25.749Z"
   },
   {
    "duration": 10,
    "start_time": "2024-11-04T23:25:50.596Z"
   },
   {
    "duration": 5,
    "start_time": "2024-11-04T23:25:57.228Z"
   },
   {
    "duration": 14,
    "start_time": "2024-11-04T23:26:12.657Z"
   },
   {
    "duration": 40,
    "start_time": "2024-11-04T23:26:27.460Z"
   },
   {
    "duration": 51,
    "start_time": "2024-11-04T23:27:14.960Z"
   },
   {
    "duration": 10,
    "start_time": "2024-11-04T23:28:22.817Z"
   },
   {
    "duration": 3,
    "start_time": "2024-11-04T23:28:26.739Z"
   },
   {
    "duration": 145,
    "start_time": "2024-11-04T23:28:46.511Z"
   },
   {
    "duration": 11,
    "start_time": "2024-11-04T23:28:56.567Z"
   },
   {
    "duration": 38,
    "start_time": "2024-11-04T23:28:59.621Z"
   },
   {
    "duration": 10,
    "start_time": "2024-11-04T23:29:11.322Z"
   },
   {
    "duration": 15,
    "start_time": "2024-11-04T23:29:17.794Z"
   },
   {
    "duration": 2,
    "start_time": "2024-11-04T23:30:58.646Z"
   },
   {
    "duration": 15,
    "start_time": "2024-11-04T23:32:21.303Z"
   },
   {
    "duration": 15,
    "start_time": "2024-11-04T23:32:38.691Z"
   },
   {
    "duration": 17,
    "start_time": "2024-11-04T23:33:13.235Z"
   },
   {
    "duration": 15,
    "start_time": "2024-11-04T23:33:15.541Z"
   },
   {
    "duration": 17,
    "start_time": "2024-11-04T23:33:22.667Z"
   },
   {
    "duration": 15,
    "start_time": "2024-11-04T23:33:25.548Z"
   },
   {
    "duration": 4,
    "start_time": "2024-11-04T23:34:04.723Z"
   },
   {
    "duration": 19,
    "start_time": "2024-11-04T23:35:45.936Z"
   },
   {
    "duration": 20,
    "start_time": "2024-11-04T23:37:08.049Z"
   },
   {
    "duration": 105,
    "start_time": "2024-11-04T23:37:11.060Z"
   },
   {
    "duration": 121,
    "start_time": "2024-11-04T23:37:25.618Z"
   },
   {
    "duration": 127,
    "start_time": "2024-11-04T23:49:13.719Z"
   }
  ],
  "kernelspec": {
   "display_name": "Python 3 (ipykernel)",
   "language": "python",
   "name": "python3"
  },
  "language_info": {
   "codemirror_mode": {
    "name": "ipython",
    "version": 3
   },
   "file_extension": ".py",
   "mimetype": "text/x-python",
   "name": "python",
   "nbconvert_exporter": "python",
   "pygments_lexer": "ipython3",
   "version": "3.9.19"
  },
  "toc": {
   "base_numbering": 1,
   "nav_menu": {},
   "number_sections": true,
   "sideBar": true,
   "skip_h1_title": true,
   "title_cell": "Table of Contents",
   "title_sidebar": "Contents",
   "toc_cell": false,
   "toc_position": {},
   "toc_section_display": true,
   "toc_window_display": false
  }
 },
 "nbformat": 4,
 "nbformat_minor": 2
}
